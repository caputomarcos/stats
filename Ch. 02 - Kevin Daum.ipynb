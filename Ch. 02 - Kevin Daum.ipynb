{
 "cells": [
  {
   "cell_type": "markdown",
   "metadata": {},
   "source": [
    "# Ch. 2 HW - Kevin Daum\n",
    "\n",
    "1-3, 7, 16, 26; 27, 47"
   ]
  },
  {
   "cell_type": "code",
   "execution_count": 1,
   "metadata": {
    "collapsed": true
   },
   "outputs": [],
   "source": [
    "%matplotlib inline\n",
    "\n",
    "import numpy as np\n",
    "import scipy.stats as st\n",
    "import pandas as pd\n",
    "import statsmodels.api as sm\n",
    "import matplotlib.pyplot as plt\n",
    "import seaborn as sns\n",
    "from IPython.display import Image"
   ]
  },
  {
   "cell_type": "markdown",
   "metadata": {},
   "source": [
    "## 1.\n",
    "\n",
    "a. Yes, the conclusion is warranted because the 95% confidence interval for the slope does not include zero. The implied level of significance is 95% confidence, or $\\alpha=0.05$.\n",
    "\n",
    "b. The scope of the model doesn't include X=0 since an area with a population of zero has no meaning. The model should only be used for populations close to those in the sample data. "
   ]
  },
  {
   "cell_type": "markdown",
   "metadata": {},
   "source": [
    "## 2.\n",
    "\n",
    "No. Since $H_0$ is $\\beta_1 \\le 0$, $\\beta_1$ could be negative, which would mean there _is_ a linear relationship. "
   ]
  },
  {
   "cell_type": "markdown",
   "metadata": {},
   "source": [
    "## 3. \n",
    "\n",
    "The negative slope would seem to imply that, and the high $P$-value indicates that the estimate for the slope is correct. However, the slope is close to zero, especially when compared with the intercept (which is a valid comparison as long as X and Y have the same unit), so it may in fact be true that there is no linear statistical association between X and Y."
   ]
  },
  {
   "cell_type": "markdown",
   "metadata": {},
   "source": [
    "## 7.\n",
    "\n",
    "a. So, we're looking for a 99% confidence interval for $\\beta_1$. First, let's load in the data:"
   ]
  },
  {
   "cell_type": "code",
   "execution_count": 2,
   "metadata": {
    "collapsed": false
   },
   "outputs": [
    {
     "data": {
      "text/html": [
       "<div>\n",
       "<table border=\"1\" class=\"dataframe\">\n",
       "  <thead>\n",
       "    <tr style=\"text-align: right;\">\n",
       "      <th></th>\n",
       "      <th>hardness</th>\n",
       "      <th>time</th>\n",
       "    </tr>\n",
       "  </thead>\n",
       "  <tbody>\n",
       "    <tr>\n",
       "      <th>0</th>\n",
       "      <td>199</td>\n",
       "      <td>16</td>\n",
       "    </tr>\n",
       "    <tr>\n",
       "      <th>1</th>\n",
       "      <td>205</td>\n",
       "      <td>16</td>\n",
       "    </tr>\n",
       "    <tr>\n",
       "      <th>2</th>\n",
       "      <td>196</td>\n",
       "      <td>16</td>\n",
       "    </tr>\n",
       "    <tr>\n",
       "      <th>3</th>\n",
       "      <td>200</td>\n",
       "      <td>16</td>\n",
       "    </tr>\n",
       "    <tr>\n",
       "      <th>4</th>\n",
       "      <td>218</td>\n",
       "      <td>24</td>\n",
       "    </tr>\n",
       "  </tbody>\n",
       "</table>\n",
       "</div>"
      ],
      "text/plain": [
       "   hardness  time\n",
       "0       199    16\n",
       "1       205    16\n",
       "2       196    16\n",
       "3       200    16\n",
       "4       218    24"
      ]
     },
     "execution_count": 2,
     "metadata": {},
     "output_type": "execute_result"
    }
   ],
   "source": [
    "df7 = pd.read_table('/Users/kevin/Dropbox/School/STA-580/ch1hw/Ch1-22.csv', sep=',', index_col=False)\n",
    "df7.head()  # shows the first few rows of the data"
   ]
  },
  {
   "cell_type": "code",
   "execution_count": 3,
   "metadata": {
    "collapsed": false
   },
   "outputs": [
    {
     "data": {
      "text/plain": [
       "<seaborn.axisgrid.FacetGrid at 0x1117395f8>"
      ]
     },
     "execution_count": 3,
     "metadata": {},
     "output_type": "execute_result"
    },
    {
     "name": "stderr",
     "output_type": "stream",
     "text": [
      "/Users/kevin/envs/stats3/lib/python3.4/site-packages/matplotlib/collections.py:590: FutureWarning: elementwise comparison failed; returning scalar instead, but in the future will perform elementwise comparison\n",
      "  if self._edgecolors == str('face'):\n"
     ]
    },
    {
     "data": {
      "image/png": "[encoded data removed]",
      "text/plain": [
       "<matplotlib.figure.Figure at 0x111739240>"
      ]
     },
     "metadata": {},
     "output_type": "display_data"
    }
   ],
   "source": [
    "# let's see what the data looks like\n",
    "sns.lmplot('time', 'hardness', df7)"
   ]
  },
  {
   "cell_type": "code",
   "execution_count": 4,
   "metadata": {
    "collapsed": false
   },
   "outputs": [
    {
     "name": "stderr",
     "output_type": "stream",
     "text": [
      "/Users/kevin/envs/stats3/lib/python3.4/site-packages/scipy/stats/stats.py:1277: UserWarning: kurtosistest only valid for n>=20 ... continuing anyway, n=16\n",
      "  \"anyway, n=%i\" % int(n))\n"
     ]
    },
    {
     "data": {
      "text/html": [
       "<table class=\"simpletable\">\n",
       "<caption>Plastic Hardness Linear Regression</caption>\n",
       "<tr>\n",
       "  <th>Dep. Variable:</th>        <td>hardness</td>     <th>  R-squared:         </th> <td>   0.973</td>\n",
       "</tr>\n",
       "<tr>\n",
       "  <th>Model:</th>                   <td>OLS</td>       <th>  Adj. R-squared:    </th> <td>   0.971</td>\n",
       "</tr>\n",
       "<tr>\n",
       "  <th>Method:</th>             <td>Least Squares</td>  <th>  F-statistic:       </th> <td>   506.5</td>\n",
       "</tr>\n",
       "<tr>\n",
       "  <th>Date:</th>             <td>Thu, 22 Oct 2015</td> <th>  Prob (F-statistic):</th> <td>2.16e-12</td>\n",
       "</tr>\n",
       "<tr>\n",
       "  <th>Time:</th>                 <td>16:18:38</td>     <th>  Log-Likelihood:    </th> <td> -40.414</td>\n",
       "</tr>\n",
       "<tr>\n",
       "  <th>No. Observations:</th>      <td>    16</td>      <th>  AIC:               </th> <td>   84.83</td>\n",
       "</tr>\n",
       "<tr>\n",
       "  <th>Df Residuals:</th>          <td>    14</td>      <th>  BIC:               </th> <td>   86.37</td>\n",
       "</tr>\n",
       "<tr>\n",
       "  <th>Df Model:</th>              <td>     1</td>      <th>                     </th>     <td> </td>   \n",
       "</tr>\n",
       "<tr>\n",
       "  <th>Covariance Type:</th>      <td>nonrobust</td>    <th>                     </th>     <td> </td>   \n",
       "</tr>\n",
       "</table>\n",
       "<table class=\"simpletable\">\n",
       "<tr>\n",
       "    <td></td>       <th>coef</th>     <th>std err</th>      <th>t</th>      <th>P>|t|</th> <th>[99.0% Conf. Int.]</th> \n",
       "</tr>\n",
       "<tr>\n",
       "  <th>const</th> <td>  168.6000</td> <td>    2.657</td> <td>   63.454</td> <td> 0.000</td> <td>  160.690   176.510</td>\n",
       "</tr>\n",
       "<tr>\n",
       "  <th>time</th>  <td>    2.0344</td> <td>    0.090</td> <td>   22.506</td> <td> 0.000</td> <td>    1.765     2.303</td>\n",
       "</tr>\n",
       "</table>\n",
       "<table class=\"simpletable\">\n",
       "<tr>\n",
       "  <th>Omnibus:</th>       <td> 0.955</td> <th>  Durbin-Watson:     </th> <td>   2.466</td>\n",
       "</tr>\n",
       "<tr>\n",
       "  <th>Prob(Omnibus):</th> <td> 0.620</td> <th>  Jarque-Bera (JB):  </th> <td>   0.711</td>\n",
       "</tr>\n",
       "<tr>\n",
       "  <th>Skew:</th>          <td> 0.068</td> <th>  Prob(JB):          </th> <td>   0.701</td>\n",
       "</tr>\n",
       "<tr>\n",
       "  <th>Kurtosis:</th>      <td> 1.976</td> <th>  Cond. No.          </th> <td>    96.7</td>\n",
       "</tr>\n",
       "</table>"
      ],
      "text/plain": [
       "<class 'statsmodels.iolib.summary.Summary'>\n",
       "\"\"\"\n",
       "                      Plastic Hardness Linear Regression                      \n",
       "==============================================================================\n",
       "Dep. Variable:               hardness   R-squared:                       0.973\n",
       "Model:                            OLS   Adj. R-squared:                  0.971\n",
       "Method:                 Least Squares   F-statistic:                     506.5\n",
       "Date:                Thu, 22 Oct 2015   Prob (F-statistic):           2.16e-12\n",
       "Time:                        16:18:38   Log-Likelihood:                -40.414\n",
       "No. Observations:                  16   AIC:                             84.83\n",
       "Df Residuals:                      14   BIC:                             86.37\n",
       "Df Model:                           1                                         \n",
       "Covariance Type:            nonrobust                                         \n",
       "==============================================================================\n",
       "                 coef    std err          t      P>|t|      [99.0% Conf. Int.]\n",
       "------------------------------------------------------------------------------\n",
       "const        168.6000      2.657     63.454      0.000       160.690   176.510\n",
       "time           2.0344      0.090     22.506      0.000         1.765     2.303\n",
       "==============================================================================\n",
       "Omnibus:                        0.955   Durbin-Watson:                   2.466\n",
       "Prob(Omnibus):                  0.620   Jarque-Bera (JB):                0.711\n",
       "Skew:                           0.068   Prob(JB):                        0.701\n",
       "Kurtosis:                       1.976   Cond. No.                         96.7\n",
       "==============================================================================\n",
       "\n",
       "Warnings:\n",
       "[1] Standard Errors assume that the covariance matrix of the errors is correctly specified.\n",
       "\"\"\""
      ]
     },
     "execution_count": 4,
     "metadata": {},
     "output_type": "execute_result"
    }
   ],
   "source": [
    "# perform the least-squares linear regression\n",
    "y7 = df7.hardness\n",
    "x7 = df7.time\n",
    "x7 = sm.add_constant(x7) # add constant term to predictor so we can fit the intercept\n",
    "result7 = sm.OLS(y7, x7).fit()\n",
    "result7.summary(title='Plastic Hardness Linear Regression', alpha=0.01)"
   ]
  },
  {
   "cell_type": "markdown",
   "metadata": {},
   "source": [
    "As can be seen in the output above, the 99% confidence interval for $\\beta_1$ is (1.765, 2.303). I believe the textbook wants me to interpret this like so: if we take many independent samples and a 99% CI is constructed for each sample, 99% of those intervals will contain the true value of $\\beta_1$. \n",
    "\n",
    "In my searching the web to confirm the book's definition of a confidence interval, I came across some interesting discussions (http://stats.stackexchange.com/questions/11609/clarification-on-interpreting-confidence-intervals, http://stats.stackexchange.com/questions/6652/what-precisely-is-a-confidence-interval/6801#6801, http://stats.stackexchange.com/questions/2356/are-there-any-examples-where-bayesian-credible-intervals-are-obviously-inferior-t/6373#6373) which seem to center on Bayesian vs. Frequentist approaches (philosophies?). I think this is beyond my current level of statistical maturity so I'm just going to go with what the book says. \n",
    "\n",
    "b. \n",
    "\n",
    "The alternatives are:\n",
    "\n",
    "$$H_0: \\beta_1 = 2$$\n",
    "$$H_a: \\beta_1 \\ne 2$$\n",
    "\n",
    "and the appropriate test statistic is:\n",
    "\n",
    "$$ t^* = \\frac{b_1 - \\beta_1}{s\\{b_1\\}} = \\frac{2.0344 - 2}{0.0904}$$\n",
    "\n",
    "The decision rule is:\n",
    "\n",
    "$$\\text{If } \\lvert t^* \\rvert \\le t(1-\\alpha/2;n-2)\\text{, conclude } H_0$$\n",
    "$$\\text{If } \\lvert t^* \\rvert > t(1-\\alpha/2;n-2)\\text{, conclude } H_a$$\n",
    "\n",
    "Since $\\alpha=0.01$, we need $t(0.995; 14)$:"
   ]
  },
  {
   "cell_type": "code",
   "execution_count": 5,
   "metadata": {
    "collapsed": false
   },
   "outputs": [
    {
     "name": "stdout",
     "output_type": "stream",
     "text": [
      "2.97684273411\n",
      "0.38053097345132975\n"
     ]
    }
   ],
   "source": [
    "b1 = 2.0344\n",
    "b0 = 168.6000\n",
    "sb1 = 0.0904\n",
    "\n",
    "t_crit7 = st.t.ppf(0.995,14)\n",
    "print(t_crit7)\n",
    "t_star7 = (b1 - 2)/sb1\n",
    "print(t_star7)"
   ]
  },
  {
   "cell_type": "markdown",
   "metadata": {},
   "source": [
    "Since $\\lvert 0.381 \\rvert < 2.977$, we conclude $H_0$. The standard is being satisfied.\n",
    "\n",
    "I'm not sure how to find this P-value, but I'll take a crack at it. I think the one-sided P-value = $P\\{t(14) > t^* = 0.382\\}$. To calculate this probability, I should just be able to use the t distribution:"
   ]
  },
  {
   "cell_type": "code",
   "execution_count": 6,
   "metadata": {
    "collapsed": false
   },
   "outputs": [
    {
     "data": {
      "text/plain": [
       "0.35427797630168878"
      ]
     },
     "execution_count": 6,
     "metadata": {},
     "output_type": "execute_result"
    }
   ],
   "source": [
    "p7 = st.t.sf(t_star7, result7.nobs)\n",
    "p7"
   ]
  },
  {
   "cell_type": "code",
   "execution_count": 7,
   "metadata": {
    "collapsed": false
   },
   "outputs": [
    {
     "data": {
      "text/plain": [
       "0.35427797630168878"
      ]
     },
     "execution_count": 7,
     "metadata": {},
     "output_type": "execute_result"
    }
   ],
   "source": [
    "# this should be the same as 1 - cdf\n",
    "1 - st.t.cdf(t_star7, result7.nobs)"
   ]
  },
  {
   "cell_type": "code",
   "execution_count": 8,
   "metadata": {
    "collapsed": false
   },
   "outputs": [
    {
     "data": {
      "text/plain": [
       "0.70855595260337756"
      ]
     },
     "execution_count": 8,
     "metadata": {},
     "output_type": "execute_result"
    }
   ],
   "source": [
    "p7 = 2*p7\n",
    "p7"
   ]
  },
  {
   "cell_type": "markdown",
   "metadata": {},
   "source": [
    "So, the two-sided P-value = 0.707. \n",
    "\n",
    "c. \n",
    "\n",
    "I can't see the table the text is referring to on pp. 50-51, so I'm going to try to find another way to calculate power."
   ]
  },
  {
   "cell_type": "code",
   "execution_count": 9,
   "metadata": {
    "collapsed": false
   },
   "outputs": [
    {
     "name": "stdout",
     "output_type": "stream",
     "text": [
      "2.9999999999999996\n"
     ]
    },
    {
     "data": {
      "text/plain": [
       "1.0"
      ]
     },
     "execution_count": 9,
     "metadata": {},
     "output_type": "execute_result"
    }
   ],
   "source": [
    "import statsmodels.stats.power as smp\n",
    "\n",
    "d7 = 0.3/.1  # noncentrality measure\n",
    "print(d7)\n",
    "power7 = smp.ttest_power(d7, nobs=16, alpha=0.01, alternative='two-sided')\n",
    "power7"
   ]
  },
  {
   "cell_type": "markdown",
   "metadata": {},
   "source": [
    "Is it even posssible to have a power of 1.0? Perhaps because we know the standard is being exceeded, I should be doing a one-sided \"larger\" test:"
   ]
  },
  {
   "cell_type": "code",
   "execution_count": 10,
   "metadata": {
    "collapsed": false
   },
   "outputs": [
    {
     "data": {
      "text/plain": [
       "1.0"
      ]
     },
     "execution_count": 10,
     "metadata": {},
     "output_type": "execute_result"
    }
   ],
   "source": [
    "power7_2 = smp.ttest_power(d7, nobs=16, alpha=0.01, alternative='larger')\n",
    "power7_2"
   ]
  },
  {
   "cell_type": "markdown",
   "metadata": {},
   "source": [
    "I now have table B5. I have df=14, $\\delta = 3.0$, $\\alpha = 0.01$, and $\\sigma\\{b_1\\} = 0.1$. For these values, table B5 reports the two-sided power value as 0.53. This disagrees with what `statsmodels.stats.power.ttest_power()` returned. I'm going to go with the result from the table, since that seems more likely to be correct."
   ]
  },
  {
   "cell_type": "markdown",
   "metadata": {},
   "source": [
    "## 16.\n",
    "\n",
    "Relevant MINITAB output:\n",
    "\n",
    "    Prediction for Y \n",
    "\n",
    "    Regression Equation\n",
    "\n",
    "    Y = 168.60 + 2.0344 X\n",
    "\n",
    "\n",
    "    Variable  Setting\n",
    "    X              30\n",
    "\n",
    "\n",
    "        Fit    SE Fit        98% CI              98% PI\n",
    "    229.631  0.828473  (227.457, 231.806)  (220.869, 238.393)\n",
    "\n",
    "a. (227.457, 231.806). If we collected 100 random samples at X=30 hours and constructed a 98 percent confidence interval for mean hardness for each sample, 98 of them will contain the true value of the mean hardness for X=30 hours. \n",
    "\n",
    "b. (220.869, 238.393)\n",
    "\n",
    "c. From the text we have\n",
    "$$ \\hat Y_h \\pm t(1-\\alpha/2;n-2)s\\{\\text{predmean}\\} \\tag{2.39}$$\n",
    "and\n",
    "$$ s^2\\{\\text{predmean}\\} = \\frac{MSE}{m} + s^2\\{\\hat Y_h\\} \\tag{2.39a}$$\n",
    "and \n",
    "$$ s^2\\{\\hat Y_h\\} = MSE\\left[\\frac{1}{n} + \\frac{(X_h-\\bar X)^2}{\\sum (X_i-\\bar X)^2}\\right] $$\n",
    "\n",
    "Relevant MINITAB output:\n",
    "\n",
    "    Analysis of Variance\n",
    "\n",
    "    Source         DF   Seq SS  Contribution   Adj SS   Adj MS  F-Value  P-Value\n",
    "    Regression      1  5297.51        97.31%  5297.51  5297.51   506.51    0.000\n",
    "    Error          14   146.43         2.69%   146.43    10.46\n",
    "    Total          15  5443.94       100.00%\n",
    "\n",
    "From that table, we see that $MSE = 10.46$. \n",
    "\n",
    "$m=3$\n",
    "\n",
    "Using Minitab, I found that $\\bar X = 28$ and $\\sum (X_i - \\bar X)^2 = 1280$. We also know $n=16$ and $X_h=30$. "
   ]
  },
  {
   "cell_type": "code",
   "execution_count": 11,
   "metadata": {
    "collapsed": false
   },
   "outputs": [
    {
     "name": "stdout",
     "output_type": "stream",
     "text": [
      "0.6864375\n",
      "0.828515238242\n"
     ]
    }
   ],
   "source": [
    "alpha16 = 0.02\n",
    "mse16 = 10.46\n",
    "m16 = 3\n",
    "xbar16 = 28\n",
    "xdevsum16 = 1280\n",
    "n16 = 16\n",
    "xh16 = 30\n",
    "varyh16 = mse16*(1/n16 + (xh16-xbar16)**2/xdevsum16)\n",
    "print(varyh16)\n",
    "syh16 = np.sqrt(varyh16)\n",
    "print(syh16)"
   ]
  },
  {
   "cell_type": "markdown",
   "metadata": {},
   "source": [
    "I see that the square root of the variance of $\\hat Y_H$ is the \"SE Fit\" value reported by Minitab for $X_h=30$ (above). Now, let's find this prediction interval:"
   ]
  },
  {
   "cell_type": "code",
   "execution_count": 12,
   "metadata": {
    "collapsed": false
   },
   "outputs": [
    {
     "data": {
      "text/plain": [
       "2.6244940675602315"
      ]
     },
     "execution_count": 12,
     "metadata": {},
     "output_type": "execute_result"
    }
   ],
   "source": [
    "tcrit16 = st.t.isf(alpha16/2, n16-2)  # t.isf is inverse of (1-CDF)\n",
    "tcrit16"
   ]
  },
  {
   "cell_type": "code",
   "execution_count": 13,
   "metadata": {
    "collapsed": false
   },
   "outputs": [
    {
     "name": "stdout",
     "output_type": "stream",
     "text": [
      "(224.26963705802697, 234.99236294197303)\n"
     ]
    }
   ],
   "source": [
    "spredmean16 = np.sqrt(mse16/m16 + varyh16)\n",
    "yhatx30_16 = 229.631\n",
    "predintx30_16 = (yhatx30_16 - tcrit16*spredmean16, yhatx30_16 + tcrit16*spredmean16)\n",
    "print(predintx30_16)"
   ]
  },
  {
   "cell_type": "markdown",
   "metadata": {},
   "source": [
    "d. Yes, the prediction interval for the mean of ten test items is narrower than the prediction interval for a single new item. This is expected. It's also wider than the confidence interval for $X_h=30$, which is also expected.\n",
    "\n",
    "e. To use (2.40) and (2.40a) I need to find $W$, which means I need to find $F(1-\\alpha;2, n-2)$."
   ]
  },
  {
   "cell_type": "code",
   "execution_count": 14,
   "metadata": {
    "collapsed": false
   },
   "outputs": [
    {
     "data": {
      "text/plain": [
       "5.0455152716264742"
      ]
     },
     "execution_count": 14,
     "metadata": {},
     "output_type": "execute_result"
    }
   ],
   "source": [
    "f16 = st.f.ppf(1-alpha16, 2, n16)  # f.ppf is the F percent point function (inverse of CDF)\n",
    "f16"
   ]
  },
  {
   "cell_type": "code",
   "execution_count": 15,
   "metadata": {
    "collapsed": false
   },
   "outputs": [
    {
     "data": {
      "text/plain": [
       "3.1766382455754933"
      ]
     },
     "execution_count": 15,
     "metadata": {},
     "output_type": "execute_result"
    }
   ],
   "source": [
    "w16 = np.sqrt(2*f16)\n",
    "w16"
   ]
  },
  {
   "cell_type": "markdown",
   "metadata": {},
   "source": [
    "Substituting all these values into (2.40) we can get the boundary values:"
   ]
  },
  {
   "cell_type": "code",
   "execution_count": 16,
   "metadata": {
    "collapsed": false
   },
   "outputs": [
    {
     "data": {
      "text/plain": [
       "(226.99910680715683, 232.26289319284317)"
      ]
     },
     "execution_count": 16,
     "metadata": {},
     "output_type": "execute_result"
    }
   ],
   "source": [
    "confbandx30_16 = (yhatx30_16 - w16*syh16, yhatx30_16 + w16*syh16)\n",
    "confbandx30_16"
   ]
  },
  {
   "cell_type": "markdown",
   "metadata": {},
   "source": [
    "Yes, the confidence ban is and always will be wider than the confidence interval at any given point, as noted at the top of Kutner p. 62."
   ]
  },
  {
   "cell_type": "markdown",
   "metadata": {},
   "source": [
    "## 26.\n",
    "\n",
    "a. "
   ]
  },
  {
   "cell_type": "code",
   "execution_count": 17,
   "metadata": {
    "collapsed": false
   },
   "outputs": [
    {
     "data": {
      "text/plain": [
       "814055.0625"
      ]
     },
     "execution_count": 17,
     "metadata": {},
     "output_type": "execute_result"
    }
   ],
   "source": [
    "cor_for_mean26 = n16*df7.hardness.mean()**2\n",
    "cor_for_mean26"
   ]
  },
  {
   "cell_type": "code",
   "execution_count": 18,
   "metadata": {
    "collapsed": false
   },
   "outputs": [
    {
     "data": {
      "text/plain": [
       "819499"
      ]
     },
     "execution_count": 18,
     "metadata": {},
     "output_type": "execute_result"
    }
   ],
   "source": [
    "sstou26 = sum([x**2 for x in df7.hardness])\n",
    "sstou26"
   ]
  },
  {
   "cell_type": "markdown",
   "metadata": {},
   "source": [
    "    Analysis of Variance\n",
    "\n",
    "    Source                 DF     Seq SS  Contribution   Adj SS   Adj MS  F-Value  P-Value\n",
    "    Regression              1    5297.51        97.31%  5297.51  5297.51   506.51    0.000\n",
    "    Error                  14     146.43         2.69%   146.43    10.46\n",
    "    Total                  15    5443.94       100.00%\n",
    "    \n",
    "    Correction for mean     1  814055.06\n",
    "    Total, uncorrected     16  819499\n",
    "\n",
    "b. \n",
    "$\\alpha=0.01$\n",
    "$$H_0: \\beta_1 = 0$$\n",
    "$$H_a: \\beta_1 \\ne 0$$ \n",
    "\n",
    "From the ANOVA table above we can see that $F^*=506.51$. The decision rule is as follows:\n",
    "\n",
    "$$ \\text{If } F^* \\le F(1-\\alpha;1,n-2)\\text{, conclude } H_0$$\n",
    "$$ \\text{If } F^* > F(1-\\alpha;1,n-2)\\text{, conclude } H_a$$\n",
    "\n",
    "So, the test statistic for our case is:"
   ]
  },
  {
   "cell_type": "code",
   "execution_count": 19,
   "metadata": {
    "collapsed": false
   },
   "outputs": [
    {
     "data": {
      "text/plain": [
       "8.8615926651764241"
      ]
     },
     "execution_count": 19,
     "metadata": {},
     "output_type": "execute_result"
    }
   ],
   "source": [
    "ftest26 = st.f.ppf(1-0.01, 1, n16-2)\n",
    "ftest26"
   ]
  },
  {
   "cell_type": "markdown",
   "metadata": {},
   "source": [
    "Since 506.51 > 8.86, we conclude $H_a$, or that the data suggests a linear relationship. \n",
    "\n",
    "c. "
   ]
  },
  {
   "cell_type": "code",
   "execution_count": 20,
   "metadata": {
    "collapsed": false
   },
   "outputs": [
    {
     "data": {
      "image/png": "[encoded data removed]",
      "text/plain": [
       "<IPython.core.display.Image object>"
      ]
     },
     "execution_count": 20,
     "metadata": {},
     "output_type": "execute_result"
    }
   ],
   "source": [
    "Image(filename='/Users/kevin/Dropbox/School/STA-580/ch2hw/Scatterplot-of-Fits-Ybar-vs-X.png')"
   ]
  },
  {
   "cell_type": "code",
   "execution_count": 21,
   "metadata": {
    "collapsed": false
   },
   "outputs": [
    {
     "data": {
      "image/png": "[encoded data removed]",
      "text/plain": [
       "<IPython.core.display.Image object>"
      ]
     },
     "execution_count": 21,
     "metadata": {},
     "output_type": "execute_result"
    }
   ],
   "source": [
    "Image(filename='/Users/kevin/Dropbox/School/STA-580/ch2hw/Scatterplot-of-RESI1-vs-X.png')"
   ]
  },
  {
   "cell_type": "markdown",
   "metadata": {},
   "source": [
    "<!---\n",
    "![Yhat - YBar vs. X](/Users/kevin/Dropbox/School/STA-580/ch2hw/Scatterplot-of-Fits-Ybar-vs-X.png)\n",
    "\n",
    "![Y - Yhat](/Users/kevin/Dropbox/School/STA-580/ch2hw/Scatterplot-of-RESI1-vs-X.png)\n",
    "\n",
    "\n",
    "![Yhat - YBar vs. X](files/Scatterplot-of-Fits-Ybar-vs-X.png)\n",
    "\n",
    "![Y - Yhat](files/Scatterplot-of-RESI1-vs-X.png)\n",
    "-->\n",
    "\n",
    "SSR appears to be the larger component of SSTO. This means that the regression explains the variation in Y, which implies a linear relationship, which implies that $R^2$ will be high. "
   ]
  },
  {
   "cell_type": "markdown",
   "metadata": {},
   "source": [
    "d. From the \"Plastic Hardness Linear Regression\" summary table above, we see that $R^2=0.973$ and therefore $r=\\pm \\sqrt R^2$:"
   ]
  },
  {
   "cell_type": "code",
   "execution_count": 22,
   "metadata": {
    "collapsed": false
   },
   "outputs": [
    {
     "data": {
      "text/plain": [
       "0.98640762365261547"
      ]
     },
     "execution_count": 22,
     "metadata": {},
     "output_type": "execute_result"
    }
   ],
   "source": [
    "np.sqrt(0.973)"
   ]
  },
  {
   "cell_type": "markdown",
   "metadata": {},
   "source": [
    "Since $\\beta_1$ is positive, $r$ is positive. So $r=0.986$. "
   ]
  },
  {
   "cell_type": "markdown",
   "metadata": {},
   "source": [
    "## 27.\n",
    "\n",
    "Let's pull in the data and plot it first, because you should always do that first, right?"
   ]
  },
  {
   "cell_type": "code",
   "execution_count": 23,
   "metadata": {
    "collapsed": false
   },
   "outputs": [
    {
     "data": {
      "text/plain": [
       "<seaborn.axisgrid.FacetGrid at 0x112423ef0>"
      ]
     },
     "execution_count": 23,
     "metadata": {},
     "output_type": "execute_result"
    },
    {
     "name": "stderr",
     "output_type": "stream",
     "text": [
      "/Users/kevin/envs/stats3/lib/python3.4/site-packages/matplotlib/collections.py:590: FutureWarning: elementwise comparison failed; returning scalar instead, but in the future will perform elementwise comparison\n",
      "  if self._edgecolors == str('face'):\n"
     ]
    },
    {
     "data": {
      "image/png": "[encoded data removed]",
      "text/plain": [
       "<matplotlib.figure.Figure at 0x112423a20>"
      ]
     },
     "metadata": {},
     "output_type": "display_data"
    }
   ],
   "source": [
    "df27 = pd.read_excel(io='file:///Users/kevin/Dropbox/School/STA-580/ch2hw/Ch1.27 data.xlsx')\n",
    "sns.lmplot('age', 'mass', df27)"
   ]
  },
  {
   "cell_type": "markdown",
   "metadata": {},
   "source": [
    "There's obviously a linear relationship here, at least for this age range. Question is, how strong is it?\n",
    "\n",
    "a. "
   ]
  },
  {
   "cell_type": "code",
   "execution_count": 25,
   "metadata": {
    "collapsed": false
   },
   "outputs": [
    {
     "data": {
      "text/html": [
       "<table class=\"simpletable\">\n",
       "<caption>Body Mass vs. Age Linear Regression</caption>\n",
       "<tr>\n",
       "  <th>Dep. Variable:</th>          <td>mass</td>       <th>  R-squared:         </th> <td>   0.750</td>\n",
       "</tr>\n",
       "<tr>\n",
       "  <th>Model:</th>                   <td>OLS</td>       <th>  Adj. R-squared:    </th> <td>   0.746</td>\n",
       "</tr>\n",
       "<tr>\n",
       "  <th>Method:</th>             <td>Least Squares</td>  <th>  F-statistic:       </th> <td>   174.1</td>\n",
       "</tr>\n",
       "<tr>\n",
       "  <th>Date:</th>             <td>Thu, 22 Oct 2015</td> <th>  Prob (F-statistic):</th> <td>4.12e-19</td>\n",
       "</tr>\n",
       "<tr>\n",
       "  <th>Time:</th>                 <td>16:19:03</td>     <th>  Log-Likelihood:    </th> <td> -210.17</td>\n",
       "</tr>\n",
       "<tr>\n",
       "  <th>No. Observations:</th>      <td>    60</td>      <th>  AIC:               </th> <td>   424.3</td>\n",
       "</tr>\n",
       "<tr>\n",
       "  <th>Df Residuals:</th>          <td>    58</td>      <th>  BIC:               </th> <td>   428.5</td>\n",
       "</tr>\n",
       "<tr>\n",
       "  <th>Df Model:</th>              <td>     1</td>      <th>                     </th>     <td> </td>   \n",
       "</tr>\n",
       "<tr>\n",
       "  <th>Covariance Type:</th>      <td>nonrobust</td>    <th>                     </th>     <td> </td>   \n",
       "</tr>\n",
       "</table>\n",
       "<table class=\"simpletable\">\n",
       "<tr>\n",
       "    <td></td>       <th>coef</th>     <th>std err</th>      <th>t</th>      <th>P>|t|</th> <th>[95.0% Conf. Int.]</th> \n",
       "</tr>\n",
       "<tr>\n",
       "  <th>const</th> <td>  156.3466</td> <td>    5.512</td> <td>   28.363</td> <td> 0.000</td> <td>  145.313   167.381</td>\n",
       "</tr>\n",
       "<tr>\n",
       "  <th>age</th>   <td>   -1.1900</td> <td>    0.090</td> <td>  -13.193</td> <td> 0.000</td> <td>   -1.371    -1.009</td>\n",
       "</tr>\n",
       "</table>\n",
       "<table class=\"simpletable\">\n",
       "<tr>\n",
       "  <th>Omnibus:</th>       <td> 1.213</td> <th>  Durbin-Watson:     </th> <td>   2.416</td>\n",
       "</tr>\n",
       "<tr>\n",
       "  <th>Prob(Omnibus):</th> <td> 0.545</td> <th>  Jarque-Bera (JB):  </th> <td>   1.208</td>\n",
       "</tr>\n",
       "<tr>\n",
       "  <th>Skew:</th>          <td> 0.319</td> <th>  Prob(JB):          </th> <td>   0.547</td>\n",
       "</tr>\n",
       "<tr>\n",
       "  <th>Kurtosis:</th>      <td> 2.726</td> <th>  Cond. No.          </th> <td>    319.</td>\n",
       "</tr>\n",
       "</table>"
      ],
      "text/plain": [
       "<class 'statsmodels.iolib.summary.Summary'>\n",
       "\"\"\"\n",
       "                     Body Mass vs. Age Linear Regression                      \n",
       "==============================================================================\n",
       "Dep. Variable:                   mass   R-squared:                       0.750\n",
       "Model:                            OLS   Adj. R-squared:                  0.746\n",
       "Method:                 Least Squares   F-statistic:                     174.1\n",
       "Date:                Thu, 22 Oct 2015   Prob (F-statistic):           4.12e-19\n",
       "Time:                        16:19:03   Log-Likelihood:                -210.17\n",
       "No. Observations:                  60   AIC:                             424.3\n",
       "Df Residuals:                      58   BIC:                             428.5\n",
       "Df Model:                           1                                         \n",
       "Covariance Type:            nonrobust                                         \n",
       "==============================================================================\n",
       "                 coef    std err          t      P>|t|      [95.0% Conf. Int.]\n",
       "------------------------------------------------------------------------------\n",
       "const        156.3466      5.512     28.363      0.000       145.313   167.381\n",
       "age           -1.1900      0.090    -13.193      0.000        -1.371    -1.009\n",
       "==============================================================================\n",
       "Omnibus:                        1.213   Durbin-Watson:                   2.416\n",
       "Prob(Omnibus):                  0.545   Jarque-Bera (JB):                1.208\n",
       "Skew:                           0.319   Prob(JB):                        0.547\n",
       "Kurtosis:                       2.726   Cond. No.                         319.\n",
       "==============================================================================\n",
       "\n",
       "Warnings:\n",
       "[1] Standard Errors assume that the covariance matrix of the errors is correctly specified.\n",
       "\"\"\""
      ]
     },
     "execution_count": 25,
     "metadata": {},
     "output_type": "execute_result"
    }
   ],
   "source": [
    "y27 = df27.mass\n",
    "x27 = df27.age\n",
    "x27 = sm.add_constant(x27)\n",
    "results27 = sm.OLS(y27, x27).fit()\n",
    "results27.summary(title='Body Mass vs. Age Linear Regression', alpha=0.05)"
   ]
  },
  {
   "cell_type": "markdown",
   "metadata": {},
   "source": [
    "$$ H_0: \\beta_1 \\ge 0$$\n",
    "$$ H_a: \\beta_1 < 0$$\n",
    "\n",
    "From the results above we can see $t^*=-13.19$. We require $t(1-0.05,58)$:"
   ]
  },
  {
   "cell_type": "code",
   "execution_count": 26,
   "metadata": {
    "collapsed": false
   },
   "outputs": [
    {
     "data": {
      "text/plain": [
       "-1.6715527621536721"
      ]
     },
     "execution_count": 26,
     "metadata": {},
     "output_type": "execute_result"
    }
   ],
   "source": [
    "tcrit27 = st.t.isf(0.95,results27.nobs-2)\n",
    "tcrit27"
   ]
  },
  {
   "cell_type": "markdown",
   "metadata": {},
   "source": [
    "If $t^8 > -1.67$, we conclude $H_0$, else $H_a$. Since -13.19 < -1.67, we conclude $H_a$. The P-value is 0+. \n",
    "\n",
    "b. Absolutely not! The human body begins very small and doesn't reach full size until around 25 years old, so body mass over the entire lifespan would have to be modeled piece-wise. It would have a positive slope from birth to around age 20-30. \n",
    "\n",
    "c."
   ]
  },
  {
   "cell_type": "code",
   "execution_count": 27,
   "metadata": {
    "collapsed": false
   },
   "outputs": [
    {
     "data": {
      "text/plain": [
       "(41, 78)"
      ]
     },
     "execution_count": 27,
     "metadata": {},
     "output_type": "execute_result"
    }
   ],
   "source": [
    "df27.age.min(), df27.age.max()"
   ]
  },
  {
   "cell_type": "markdown",
   "metadata": {},
   "source": [
    "Based on this model, which is valid for women ages 41-78, a woman will lose 1.01 to 1.37 units of muscle mass each year with 95% confidence (see confidence interval for row 'age' in results summary above) . Based on the numbers, I am assuming the unit is pounds. It is not necessary to know the exact age, as long as it is within the age range of the sample data, because this is a linear model. The slope is fixed across the entire range."
   ]
  },
  {
   "cell_type": "markdown",
   "metadata": {},
   "source": [
    "## 47.\n",
    "\n",
    "a. Using the formula for Pearson product-moment correlation coefficient (2.84):"
   ]
  },
  {
   "cell_type": "code",
   "execution_count": 28,
   "metadata": {
    "collapsed": false
   },
   "outputs": [
    {
     "data": {
      "text/plain": [
       "-0.86606398132047424"
      ]
     },
     "execution_count": 28,
     "metadata": {},
     "output_type": "execute_result"
    }
   ],
   "source": [
    "r12_47_num = sum([(row[1].age - df27.age.mean())*(row[1].mass - df27.mass.mean()) \n",
    "                  for row in df27.iterrows()])\n",
    "r12_47_den = (sum([(row[1].age - df27.age.mean())**2 for row in df27.iterrows()]) * \n",
    "              sum([(row[1].mass - df27.mass.mean())**2 for row in df27.iterrows()]))**0.5\n",
    "r12_47 = r12_47_num / r12_47_den\n",
    "r12_47"
   ]
  },
  {
   "cell_type": "markdown",
   "metadata": {},
   "source": [
    "Let's see if we get the same result using scipy.stats:"
   ]
  },
  {
   "cell_type": "code",
   "execution_count": 29,
   "metadata": {
    "collapsed": false
   },
   "outputs": [
    {
     "data": {
      "text/plain": [
       "(-0.86606398132047413, 4.1239869016725787e-19)"
      ]
     },
     "execution_count": 29,
     "metadata": {},
     "output_type": "execute_result"
    }
   ],
   "source": [
    "st.pearsonr(df27.age, df27.mass)"
   ]
  },
  {
   "cell_type": "markdown",
   "metadata": {},
   "source": [
    "The first value above is $r_{12}$, the second is a two-tailed P-value. So yes, we got the correct value!\n",
    "\n",
    "$r_{12} = -0.866$\n",
    "\n",
    "b. \n",
    "\n",
    "Alternatives: \n",
    "\n",
    "$$H_0: \\rho_{12} = 0 \\text{  ($Y_1$ and $Y_2$ are statistically independent)}$$\n",
    "$$H_a: \\rho_{12} \\ne 0$$\n",
    "\n",
    "Decision rule based on test statistic (2.87) is (2.88):\n",
    "\n",
    "$$\\text{If } \\lvert t^* \\rvert \\le t(1-\\alpha/2;n-2)\\text{, conclude } H_0$$\n",
    "$$\\text{If } \\lvert t^* \\rvert > t(1-\\alpha/2;n-2)\\text{, conclude } H_a$$\n",
    "\n",
    "Using (2.87):"
   ]
  },
  {
   "cell_type": "code",
   "execution_count": 30,
   "metadata": {
    "collapsed": false
   },
   "outputs": [
    {
     "data": {
      "text/plain": [
       "-13.193256811621596"
      ]
     },
     "execution_count": 30,
     "metadata": {},
     "output_type": "execute_result"
    }
   ],
   "source": [
    "tstar47 = (r12_47 * np.sqrt(results27.nobs - 2)) / np.sqrt(1 - r12_47**2)\n",
    "tstar47"
   ]
  },
  {
   "cell_type": "code",
   "execution_count": 31,
   "metadata": {
    "collapsed": false
   },
   "outputs": [
    {
     "data": {
      "text/plain": [
       "2.0017174830120927"
      ]
     },
     "execution_count": 31,
     "metadata": {},
     "output_type": "execute_result"
    }
   ],
   "source": [
    "alpha47 = 0.05\n",
    "tcrit47 = st.t.isf(alpha47/2, results27.nobs-2)\n",
    "tcrit47"
   ]
  },
  {
   "cell_type": "markdown",
   "metadata": {},
   "source": [
    "Since 13.2 > 2.0, we reject $H_0$. Muscle mass and age are _not_ statistically independent.\n",
    "\n",
    "c. \n",
    "\n",
    "I've been spending my whole Saturday on these last two problems and I miss my family, so let's go right to `scipy.stats` this time:"
   ]
  },
  {
   "cell_type": "code",
   "execution_count": 32,
   "metadata": {
    "collapsed": false
   },
   "outputs": [
    {
     "name": "stdout",
     "output_type": "stream",
     "text": [
      "SpearmanrResult(correlation=-0.86572174383370593, pvalue=4.4188814356061015e-19)\n"
     ]
    },
    {
     "data": {
      "text/plain": [
       "-0.86572174383370593"
      ]
     },
     "execution_count": 32,
     "metadata": {},
     "output_type": "execute_result"
    }
   ],
   "source": [
    "rs47 = st.spearmanr(df27.age, df27.mass)\n",
    "print(rs47)\n",
    "rs47 = rs47[0]\n",
    "rs47"
   ]
  },
  {
   "cell_type": "markdown",
   "metadata": {},
   "source": [
    "$r_S = -0.866$. \n",
    "\n",
    "d. \n",
    "\n",
    "Using (2.101):"
   ]
  },
  {
   "cell_type": "code",
   "execution_count": 33,
   "metadata": {
    "collapsed": false
   },
   "outputs": [
    {
     "data": {
      "text/plain": [
       "-13.172434253302704"
      ]
     },
     "execution_count": 33,
     "metadata": {},
     "output_type": "execute_result"
    }
   ],
   "source": [
    "tstar_spearman47 = (rs47 * np.sqrt(results27.nobs - 2)) / np.sqrt(1 - rs47**2)\n",
    "tstar_spearman47"
   ]
  },
  {
   "cell_type": "markdown",
   "metadata": {},
   "source": [
    "Alternatives: \n",
    "\n",
    "$H_0$: There is no association between $Y_1$ and $Y_2$  \n",
    "$H_a$: There is an association between $Y_1$ and $Y_2$\n",
    "\n",
    "Decision rule based on test statistic (2.101) is:\n",
    "\n",
    "$$\\text{If } \\lvert t^* \\rvert \\le t(1-\\alpha/2;n-2)\\text{, conclude } H_0$$\n",
    "$$\\text{If } \\lvert t^* \\rvert > t(1-\\alpha/2;n-2)\\text{, conclude } H_a$$\n",
    "\n",
    "Since $\\alpha$ is still 0.05, we again require t = 2.00. Since 13.2 > 2.00, we reject $H_0$. There is an association between $Y_1$ and $Y_2$. \n",
    "\n",
    "e. \n",
    "\n",
    "The results and conclusions are identical since $t^*=-13.2$ in both cases."
   ]
  }
 ],
 "metadata": {
  "kernelspec": {
   "display_name": "Python 3",
   "language": "python",
   "name": "python3"
  },
  "language_info": {
   "codemirror_mode": {
    "name": "ipython",
    "version": 3
   },
   "file_extension": ".py",
   "mimetype": "text/x-python",
   "name": "python",
   "nbconvert_exporter": "python",
   "pygments_lexer": "ipython3",
   "version": "3.4.3"
  }
 },
 "nbformat": 4,
 "nbformat_minor": 0
}
