{
 "cells": [
  {
   "cell_type": "code",
   "execution_count": 161,
   "metadata": {
    "collapsed": false
   },
   "outputs": [],
   "source": [
    "%matplotlib inline\n",
    "\n",
    "import numpy as np\n",
    "import scipy.stats as st\n",
    "import pandas as pd\n",
    "import statsmodels.api as sm\n",
    "import statsmodels.stats.api as sms\n",
    "import statsmodels.formula.api as smf\n",
    "import statsmodels.stats as stats\n",
    "import matplotlib.pyplot as plt\n",
    "import seaborn as sns\n",
    "from IPython.display import Image\n",
    "from statsmodels import stats"
   ]
  },
  {
   "cell_type": "markdown",
   "metadata": {},
   "source": [
    "## 1."
   ]
  },
  {
   "cell_type": "code",
   "execution_count": 162,
   "metadata": {
    "collapsed": false
   },
   "outputs": [
    {
     "data": {
      "text/html": [
       "<div>\n",
       "<table border=\"1\" class=\"dataframe\">\n",
       "  <thead>\n",
       "    <tr style=\"text-align: right;\">\n",
       "      <th></th>\n",
       "      <th>X1 Age</th>\n",
       "      <th>X2 Sex</th>\n",
       "      <th>X3 Length</th>\n",
       "      <th>X4 Chest.G</th>\n",
       "      <th>Y Weight</th>\n",
       "      <th>Name</th>\n",
       "    </tr>\n",
       "    <tr>\n",
       "      <th>Case</th>\n",
       "      <th></th>\n",
       "      <th></th>\n",
       "      <th></th>\n",
       "      <th></th>\n",
       "      <th></th>\n",
       "      <th></th>\n",
       "    </tr>\n",
       "  </thead>\n",
       "  <tbody>\n",
       "    <tr>\n",
       "      <th>1</th>\n",
       "      <td>19</td>\n",
       "      <td>1</td>\n",
       "      <td>45.0</td>\n",
       "      <td>23</td>\n",
       "      <td>65</td>\n",
       "      <td>Allen</td>\n",
       "    </tr>\n",
       "    <tr>\n",
       "      <th>2</th>\n",
       "      <td>19</td>\n",
       "      <td>2</td>\n",
       "      <td>47.5</td>\n",
       "      <td>24</td>\n",
       "      <td>70</td>\n",
       "      <td>Berta</td>\n",
       "    </tr>\n",
       "    <tr>\n",
       "      <th>3</th>\n",
       "      <td>20</td>\n",
       "      <td>2</td>\n",
       "      <td>57.0</td>\n",
       "      <td>27</td>\n",
       "      <td>74</td>\n",
       "      <td>Berta</td>\n",
       "    </tr>\n",
       "    <tr>\n",
       "      <th>4</th>\n",
       "      <td>23</td>\n",
       "      <td>2</td>\n",
       "      <td>59.5</td>\n",
       "      <td>38</td>\n",
       "      <td>142</td>\n",
       "      <td>Berta</td>\n",
       "    </tr>\n",
       "    <tr>\n",
       "      <th>5</th>\n",
       "      <td>29</td>\n",
       "      <td>2</td>\n",
       "      <td>62.0</td>\n",
       "      <td>31</td>\n",
       "      <td>121</td>\n",
       "      <td>Berta</td>\n",
       "    </tr>\n",
       "  </tbody>\n",
       "</table>\n",
       "</div>"
      ],
      "text/plain": [
       "      X1 Age  X2 Sex  X3 Length  X4 Chest.G  Y Weight   Name\n",
       "Case                                                        \n",
       "1         19       1       45.0          23        65  Allen\n",
       "2         19       2       47.5          24        70  Berta\n",
       "3         20       2       57.0          27        74  Berta\n",
       "4         23       2       59.5          38       142  Berta\n",
       "5         29       2       62.0          31       121  Berta"
      ]
     },
     "execution_count": 162,
     "metadata": {},
     "output_type": "execute_result"
    }
   ],
   "source": [
    "# Load in the data\n",
    "df_bears = pd.read_excel('file://localhost/Users/kevin/Dropbox/School/STA-580/final-exam/STA 580 Fall 2015 12-8 Blackboard.xls',\n",
    "                        header=0, index_col='Case')\n",
    "df_bears.head()"
   ]
  },
  {
   "cell_type": "code",
   "execution_count": 163,
   "metadata": {
    "collapsed": false
   },
   "outputs": [
    {
     "data": {
      "text/html": [
       "<table class=\"simpletable\">\n",
       "<caption>OLS Regression Results</caption>\n",
       "<tr>\n",
       "  <th>Dep. Variable:</th>        <td>Y Weight</td>     <th>  R-squared:         </th> <td>   0.950</td>\n",
       "</tr>\n",
       "<tr>\n",
       "  <th>Model:</th>                   <td>OLS</td>       <th>  Adj. R-squared:    </th> <td>   0.948</td>\n",
       "</tr>\n",
       "<tr>\n",
       "  <th>Method:</th>             <td>Least Squares</td>  <th>  F-statistic:       </th> <td>   372.7</td>\n",
       "</tr>\n",
       "<tr>\n",
       "  <th>Date:</th>             <td>Tue, 15 Dec 2015</td> <th>  Prob (F-statistic):</th> <td>5.57e-50</td>\n",
       "</tr>\n",
       "<tr>\n",
       "  <th>Time:</th>                 <td>14:39:41</td>     <th>  Log-Likelihood:    </th> <td> -390.20</td>\n",
       "</tr>\n",
       "<tr>\n",
       "  <th>No. Observations:</th>      <td>    83</td>      <th>  AIC:               </th> <td>   790.4</td>\n",
       "</tr>\n",
       "<tr>\n",
       "  <th>Df Residuals:</th>          <td>    78</td>      <th>  BIC:               </th> <td>   802.5</td>\n",
       "</tr>\n",
       "<tr>\n",
       "  <th>Df Model:</th>              <td>     4</td>      <th>                     </th>     <td> </td>   \n",
       "</tr>\n",
       "<tr>\n",
       "  <th>Covariance Type:</th>      <td>nonrobust</td>    <th>                     </th>     <td> </td>   \n",
       "</tr>\n",
       "</table>\n",
       "<table class=\"simpletable\">\n",
       "<tr>\n",
       "       <td></td>         <th>coef</th>     <th>std err</th>      <th>t</th>      <th>P>|t|</th> <th>[95.0% Conf. Int.]</th> \n",
       "</tr>\n",
       "<tr>\n",
       "  <th>const</th>      <td> -199.7560</td> <td>   26.565</td> <td>   -7.519</td> <td> 0.000</td> <td> -252.644  -146.869</td>\n",
       "</tr>\n",
       "<tr>\n",
       "  <th>X1 Age</th>     <td>    0.6717</td> <td>    0.144</td> <td>    4.670</td> <td> 0.000</td> <td>    0.385     0.958</td>\n",
       "</tr>\n",
       "<tr>\n",
       "  <th>X2 Sex</th>     <td>  -23.1468</td> <td>    7.224</td> <td>   -3.204</td> <td> 0.002</td> <td>  -37.529    -8.764</td>\n",
       "</tr>\n",
       "<tr>\n",
       "  <th>X3 Length</th>  <td>    0.0556</td> <td>    0.668</td> <td>    0.083</td> <td> 0.934</td> <td>   -1.275     1.386</td>\n",
       "</tr>\n",
       "<tr>\n",
       "  <th>X4 Chest.G</th> <td>   10.7271</td> <td>    0.843</td> <td>   12.726</td> <td> 0.000</td> <td>    9.049    12.405</td>\n",
       "</tr>\n",
       "</table>\n",
       "<table class=\"simpletable\">\n",
       "<tr>\n",
       "  <th>Omnibus:</th>       <td> 6.574</td> <th>  Durbin-Watson:     </th> <td>   1.652</td>\n",
       "</tr>\n",
       "<tr>\n",
       "  <th>Prob(Omnibus):</th> <td> 0.037</td> <th>  Jarque-Bera (JB):  </th> <td>   7.438</td>\n",
       "</tr>\n",
       "<tr>\n",
       "  <th>Skew:</th>          <td> 0.388</td> <th>  Prob(JB):          </th> <td>  0.0243</td>\n",
       "</tr>\n",
       "<tr>\n",
       "  <th>Kurtosis:</th>      <td> 4.245</td> <th>  Cond. No.          </th> <td>    773.</td>\n",
       "</tr>\n",
       "</table>"
      ],
      "text/plain": [
       "<class 'statsmodels.iolib.summary.Summary'>\n",
       "\"\"\"\n",
       "                            OLS Regression Results                            \n",
       "==============================================================================\n",
       "Dep. Variable:               Y Weight   R-squared:                       0.950\n",
       "Model:                            OLS   Adj. R-squared:                  0.948\n",
       "Method:                 Least Squares   F-statistic:                     372.7\n",
       "Date:                Tue, 15 Dec 2015   Prob (F-statistic):           5.57e-50\n",
       "Time:                        14:39:41   Log-Likelihood:                -390.20\n",
       "No. Observations:                  83   AIC:                             790.4\n",
       "Df Residuals:                      78   BIC:                             802.5\n",
       "Df Model:                           4                                         \n",
       "Covariance Type:            nonrobust                                         \n",
       "==============================================================================\n",
       "                 coef    std err          t      P>|t|      [95.0% Conf. Int.]\n",
       "------------------------------------------------------------------------------\n",
       "const       -199.7560     26.565     -7.519      0.000      -252.644  -146.869\n",
       "X1 Age         0.6717      0.144      4.670      0.000         0.385     0.958\n",
       "X2 Sex       -23.1468      7.224     -3.204      0.002       -37.529    -8.764\n",
       "X3 Length      0.0556      0.668      0.083      0.934        -1.275     1.386\n",
       "X4 Chest.G    10.7271      0.843     12.726      0.000         9.049    12.405\n",
       "==============================================================================\n",
       "Omnibus:                        6.574   Durbin-Watson:                   1.652\n",
       "Prob(Omnibus):                  0.037   Jarque-Bera (JB):                7.438\n",
       "Skew:                           0.388   Prob(JB):                       0.0243\n",
       "Kurtosis:                       4.245   Cond. No.                         773.\n",
       "==============================================================================\n",
       "\n",
       "Warnings:\n",
       "[1] Standard Errors assume that the covariance matrix of the errors is correctly specified.\n",
       "\"\"\""
      ]
     },
     "execution_count": 163,
     "metadata": {},
     "output_type": "execute_result"
    }
   ],
   "source": [
    "# Fit regression model (6.5) for all four predictor variables\n",
    "Y = df_bears['Y Weight']\n",
    "X = df_bears[['X1 Age', 'X2 Sex', 'X3 Length', 'X4 Chest.G']]\n",
    "X = sm.add_constant(X)\n",
    "model = sm.OLS(Y, X)\n",
    "res1234 = model.fit()\n",
    "# Show the model summary\n",
    "res1234.summary()"
   ]
  },
  {
   "cell_type": "markdown",
   "metadata": {},
   "source": [
    "### a. \n",
    "\n",
    "The desired regression sums of squares ($SSR(X_4)$, $SSR(X_1 \\mid X_4)$, $SSR(X_3 \\mid X_4,X_1)$, and $SSR(X_2 \\mid X_4,X_1,X_3)$) are in the \"Seq SS\" column:\n",
    "\n",
    "    Source         DF   Seq SS  Contribution   Adj SS  Adj MS  F-Value  P-Value\n",
    "    Regression      4  1125386        95.03%  1125386  281346   372.67    0.000\n",
    "      X4 Chest.G    1  1107073        93.48%   122257  122257   161.94    0.000\n",
    "      X1 Age        1    10556         0.89%    16466   16466    21.81    0.000\n",
    "      X3 Length     1        7         0.00%        5       5     0.01    0.934\n",
    "      X2 Sex        1     7750         0.65%     7750    7750    10.27    0.002\n",
    "    Error          78    58885         4.97%    58885     755\n",
    "    Total          82  1184271       100.00%\n",
    "\n",
    "\n",
    "### b. \n",
    "\n",
    "The alternatives are:\n",
    "\n",
    "$$H_0: \\beta_3 = 0$$\n",
    "$$H_a: \\beta_3 \\ne 0$$\n",
    "\n",
    "If $H_0$ holds, $F^* \\sim F(1,n-p) = F(1,83-5) = F(1,78)$. Large values of $F^*$ lead to $H_a$. \n",
    "\n",
    "The ANOVA table shows $F^*_3 = 0.01$ with a very large P-value of $0.934$. Since P-value > $\\alpha$ ($0.934 > 0.025$), we conclude $H_0$. $X_3$ can be dropped from the regression model. Just to be thorough, let's calculate $F_\\text{crit}$:"
   ]
  },
  {
   "cell_type": "code",
   "execution_count": 164,
   "metadata": {
    "collapsed": false
   },
   "outputs": [
    {
     "data": {
      "text/plain": [
       "5.2234831208203953"
      ]
     },
     "execution_count": 164,
     "metadata": {},
     "output_type": "execute_result"
    }
   ],
   "source": [
    "alpha = 0.025\n",
    "p = res1234.df_model + 1\n",
    "n = res1234.nobs\n",
    "st.f.ppf(1-alpha, 1, n-p)"
   ]
  },
  {
   "cell_type": "markdown",
   "metadata": {},
   "source": [
    "This confirms what the P-value told us: $F^* < F_\\text{crit}$ (0.01 < 5.22), so we conclude $H_0$. "
   ]
  },
  {
   "cell_type": "markdown",
   "metadata": {},
   "source": [
    "### c. \n",
    "\n",
    "The alternatives are:\n",
    "\n",
    "$$\n",
    "\\begin{aligned}\n",
    "H_0&: \\beta_2 = \\beta_3 = 0 \\\\\n",
    "H_a&: \\text{not both } \\beta_2 \\text{ and } \\beta_3 \\text{ equal } 0 \\\\\n",
    "\\end{aligned}\n",
    "$$\n",
    "\n",
    "If $H_0$ holds, $F^* \\sim F(p-q,n-p) = F(5-3,83-5) = F(2,78)$. Large values of $F^*$ lead to $H_a$. \n",
    "\n",
    "Using (7.27) and (7.28):\n",
    "\n",
    "$$F^* = \\frac{SSR(X_2 \\mid X_1,X_3,X_4)+SSR(X_3 \\mid X_1,X_2,X_4)}{p-q} \\div \\frac{SSE(X_1,X_2,X_3,X_4)}{n-p}$$\n",
    "\n",
    "Substituting from the ANOVA table above, we have\n",
    "\n",
    "$$F^* = \\frac{7750+5}{5-3} \\div \\frac{58885}{83-5}$$"
   ]
  },
  {
   "cell_type": "code",
   "execution_count": 165,
   "metadata": {
    "collapsed": false
   },
   "outputs": [
    {
     "data": {
      "text/plain": [
       "0.0008442139502681236"
      ]
     },
     "execution_count": 165,
     "metadata": {},
     "output_type": "execute_result"
    }
   ],
   "source": [
    "q = 3\n",
    "f_star = (7750+5)/(p-q)/58885/(n-p)\n",
    "f_star"
   ]
  },
  {
   "cell_type": "markdown",
   "metadata": {},
   "source": [
    "Now we calculate $F_\\text{crit}$:"
   ]
  },
  {
   "cell_type": "code",
   "execution_count": 166,
   "metadata": {
    "collapsed": false
   },
   "outputs": [
    {
     "data": {
      "text/plain": [
       "3.8689719121051347"
      ]
     },
     "execution_count": 166,
     "metadata": {},
     "output_type": "execute_result"
    }
   ],
   "source": [
    "st.f.ppf(1-alpha, 2, n-p)"
   ]
  },
  {
   "cell_type": "markdown",
   "metadata": {},
   "source": [
    "Since $F^* < F_\\text{crit}$ (0.0008 < 3.869), we conclude $H_0$: both $X_2$ and $X_3$ can be dropped from the regression model given that $X_1$ and $X_4$ are retained. The P-value of the test is:"
   ]
  },
  {
   "cell_type": "code",
   "execution_count": 167,
   "metadata": {
    "collapsed": false
   },
   "outputs": [
    {
     "data": {
      "text/plain": [
       "0.99915615142737635"
      ]
     },
     "execution_count": 167,
     "metadata": {},
     "output_type": "execute_result"
    }
   ],
   "source": [
    "st.f.sf(f_star, 2, n-p)"
   ]
  },
  {
   "cell_type": "markdown",
   "metadata": {},
   "source": [
    "### d.\n",
    "\n",
    "I'll be using (7.35)-(7.40). I regress $Y$ on $X_1$:"
   ]
  },
  {
   "cell_type": "code",
   "execution_count": 168,
   "metadata": {
    "collapsed": false
   },
   "outputs": [
    {
     "data": {
      "text/plain": [
       "0.59907140211939702"
      ]
     },
     "execution_count": 168,
     "metadata": {},
     "output_type": "execute_result"
    }
   ],
   "source": [
    "X1 = sm.add_constant(df_bears['X1 Age'])\n",
    "res1 = sm.OLS(Y, X1).fit()\n",
    "res1.rsquared"
   ]
  },
  {
   "cell_type": "markdown",
   "metadata": {},
   "source": [
    "$$R^2_{Y1} = 0.5991$$\n",
    "\n",
    "Using (7.35):\n",
    "\n",
    "$$R^2_{Y1 \\mid 3} = \\frac{SSE(X_3)-SSE(X_1,X_3)}{SSE(X_3)}$$\n",
    "\n",
    "I'd like to use python `statsmodels` to calculate these values. However, I'm noticing that the packages seems to have SSE and SSR reversed:\n",
    "\n",
    "#### Minitab\n",
    "\n",
    "    Regression Analysis: Y Weight versus X1 Age \n",
    "\n",
    "    Source         DF   Seq SS  Contribution  Adj SS  Adj MS  F-Value  P-Value\n",
    "    Regression      1   709463        59.91%  709463  709463   121.03    0.000\n",
    "    Error          81   474808        40.09%  474808    5862\n",
    "\n",
    "#### `statsmodels`"
   ]
  },
  {
   "cell_type": "code",
   "execution_count": 169,
   "metadata": {
    "collapsed": false
   },
   "outputs": [
    {
     "data": {
      "text/plain": [
       "709462.92454797903"
      ]
     },
     "execution_count": 169,
     "metadata": {},
     "output_type": "execute_result"
    }
   ],
   "source": [
    "res1.ess"
   ]
  },
  {
   "cell_type": "code",
   "execution_count": 170,
   "metadata": {
    "collapsed": false
   },
   "outputs": [
    {
     "data": {
      "text/plain": [
       "474808.13569298468"
      ]
     },
     "execution_count": 170,
     "metadata": {},
     "output_type": "execute_result"
    }
   ],
   "source": [
    "res1.ssr"
   ]
  },
  {
   "cell_type": "markdown",
   "metadata": {},
   "source": [
    "So I'll just need to keep this in mind. First I need a two more regressions:"
   ]
  },
  {
   "cell_type": "code",
   "execution_count": 171,
   "metadata": {
    "collapsed": false
   },
   "outputs": [
    {
     "data": {
      "text/plain": [
       "283970.29174884409"
      ]
     },
     "execution_count": 171,
     "metadata": {},
     "output_type": "execute_result"
    }
   ],
   "source": [
    "# Regress Y on X3\n",
    "X3 = sm.add_constant(df_bears['X3 Length'])\n",
    "res3 = sm.OLS(Y, X3).fit()\n",
    "# SSE for Y ~ X3\n",
    "res3.ssr"
   ]
  },
  {
   "cell_type": "code",
   "execution_count": 172,
   "metadata": {
    "collapsed": false
   },
   "outputs": [
    {
     "data": {
      "text/plain": [
       "217094.94291882598"
      ]
     },
     "execution_count": 172,
     "metadata": {},
     "output_type": "execute_result"
    }
   ],
   "source": [
    "# Regress Y on X1, X3\n",
    "X13 = sm.add_constant(df_bears[['X1 Age', 'X3 Length']])\n",
    "res13 = sm.OLS(Y,X13).fit()\n",
    "# SSE for Y ~ X1 + X3\n",
    "res13.ssr"
   ]
  },
  {
   "cell_type": "code",
   "execution_count": 173,
   "metadata": {
    "collapsed": false
   },
   "outputs": [
    {
     "data": {
      "text/plain": [
       "0.2355012153495466"
      ]
     },
     "execution_count": 173,
     "metadata": {},
     "output_type": "execute_result"
    }
   ],
   "source": [
    "Rsq_1_3 = (res3.ssr - res13.ssr)/res3.ssr\n",
    "Rsq_1_3"
   ]
  },
  {
   "cell_type": "markdown",
   "metadata": {},
   "source": [
    "$$R^2_{Y1|3} = 0.2355$$\n",
    "\n",
    "Using (7.35) with (7.3a), I have:\n",
    "\n",
    "$$R^2_{Y1 \\mid 34} = \\frac{SSE(X_3,X_4)-SSE(X_1,X_3,X_4)}{SSE(X_3,X_4)}$$\n",
    "\n",
    "I'll need another regression:"
   ]
  },
  {
   "cell_type": "code",
   "execution_count": 174,
   "metadata": {
    "collapsed": false
   },
   "outputs": [
    {
     "data": {
      "text/plain": [
       "77007.354993202418"
      ]
     },
     "execution_count": 174,
     "metadata": {},
     "output_type": "execute_result"
    }
   ],
   "source": [
    "# Regress Y on X3, X4\n",
    "X34 = sm.add_constant(df_bears[['X3 Length', 'X4 Chest.G']])\n",
    "res34 = sm.OLS(Y, X34).fit()\n",
    "# SSE for Y ~ X3 + X4\n",
    "res34.ssr"
   ]
  },
  {
   "cell_type": "code",
   "execution_count": 175,
   "metadata": {
    "collapsed": false
   },
   "outputs": [
    {
     "data": {
      "text/plain": [
       "0.23532989711154029"
      ]
     },
     "execution_count": 175,
     "metadata": {},
     "output_type": "execute_result"
    }
   ],
   "source": [
    "Rsq_1_34 = (res34.ssr - res1234.ssr)/res34.ssr\n",
    "Rsq_1_34"
   ]
  },
  {
   "cell_type": "markdown",
   "metadata": {},
   "source": [
    "$$R^2_{Y1 \\mid 34} = 0.2353$$\n",
    "\n",
    "The degree of marginal linear association between $Y$ and $X_1$ dropped significantly when adjusted for $X_3$, from 60% to 24%. However, adding $X_4$ did not change the difference since $R^2_{Y1|3}$ and $R^2_{Y1 \\mid 34}$ are both 24%. "
   ]
  },
  {
   "cell_type": "markdown",
   "metadata": {},
   "source": [
    "## 2.\n",
    "\n",
    "### a.\n",
    "\n",
    "    Best Subsets Regression: Y Weight versus X1 Age, X2 Sex, ... \n",
    "\n",
    "    Response is Y Weight\n",
    "\n",
    "                                                                    X\n",
    "                                                                  X 4\n",
    "                                                                  3\n",
    "                                                                    C\n",
    "                                                              X X L h\n",
    "                                                              1 2 e e\n",
    "                                                                  n s\n",
    "                                                              A S g t\n",
    "                 R-Sq               R-Sq                      g e t .\n",
    "    Vars  R-Sq  (adj)      PRESS  (pred)  Mallows Cp       S  e x h G\n",
    "       1  93.5   93.4    82504.6    93.0        23.3  30.872        X\n",
    "       1  76.0   75.7   301210.5    74.6       297.2  59.210      X\n",
    "       1  59.9   59.4   506897.8    57.2       549.9  76.563  X\n",
    "       1   5.1    4.0  1171113.8     1.1      1408.9  117.76    X\n",
    "       2  94.4   94.2    74491.7    93.7        11.3  28.862  X     X\n",
    "       2  93.6   93.5    82281.0    93.1        23.1  30.738    X   X\n",
    "       2  93.5   93.3    84701.3    92.8        25.0  31.026      X X\n",
    "       2  81.7   81.2   235500.7    80.1       210.6  52.093  X   X\n",
    "       3  95.0   94.8    66359.6    94.4         3.0  27.303  X X   X\n",
    "       3  94.4   94.2    76532.7    93.5        13.3  29.043  X   X X\n",
    "       3  93.6   93.4    84517.3    92.9        24.8  30.884    X X X\n",
    "       3  84.7   84.1   202255.7    82.9       164.9  47.885  X X X\n",
    "       4  95.0   94.8    68308.4    94.2         5.0  27.476  X X X X\n",
    "       \n",
    "First I plot $R^2_{ap}$:"
   ]
  },
  {
   "cell_type": "code",
   "execution_count": 176,
   "metadata": {
    "collapsed": false
   },
   "outputs": [
    {
     "data": {
      "image/png": "[encoded data removed]",
      "text/plain": [
       "<IPython.core.display.Image object>"
      ]
     },
     "execution_count": 176,
     "metadata": {},
     "output_type": "execute_result"
    }
   ],
   "source": [
    "Image(filename='/Users/kevin/Dropbox/School/STA-580/final-exam/Scatterplot of R-sq (adj) vs p-1.png')"
   ]
  },
  {
   "cell_type": "markdown",
   "metadata": {},
   "source": [
    "And then scaled so you can actually see which model is best:"
   ]
  },
  {
   "cell_type": "code",
   "execution_count": 177,
   "metadata": {
    "collapsed": false
   },
   "outputs": [
    {
     "data": {
      "image/png": "[encoded data removed]",
      "text/plain": [
       "<IPython.core.display.Image object>"
      ]
     },
     "execution_count": 177,
     "metadata": {},
     "output_type": "execute_result"
    }
   ],
   "source": [
    "Image(filename='/Users/kevin/Dropbox/School/STA-580/final-exam/Scatterplot_of_R-sq__adj__vs_p-1_-scaled.png')"
   ]
  },
  {
   "cell_type": "markdown",
   "metadata": {},
   "source": [
    "Next I plot $C_p$:"
   ]
  },
  {
   "cell_type": "code",
   "execution_count": 178,
   "metadata": {
    "collapsed": false
   },
   "outputs": [
    {
     "data": {
      "image/png": "[encoded data removed]",
      "text/plain": [
       "<IPython.core.display.Image object>"
      ]
     },
     "execution_count": 178,
     "metadata": {},
     "output_type": "execute_result"
    }
   ],
   "source": [
    "Image(filename='/Users/kevin/Dropbox/School/STA-580/final-exam/Scatterplot of Mallows Cp vs p-1.png')"
   ]
  },
  {
   "cell_type": "markdown",
   "metadata": {},
   "source": [
    "And then we zoom in:"
   ]
  },
  {
   "cell_type": "code",
   "execution_count": 179,
   "metadata": {
    "collapsed": false
   },
   "outputs": [
    {
     "data": {
      "image/png": "[encoded data removed]",
      "text/plain": [
       "<IPython.core.display.Image object>"
      ]
     },
     "execution_count": 179,
     "metadata": {},
     "output_type": "execute_result"
    }
   ],
   "source": [
    "Image(filename='/Users/kevin/Dropbox/School/STA-580/final-exam/Scatterplot_of_Mallows_Cp_vs_p-1_-scaled.png')"
   ]
  },
  {
   "cell_type": "markdown",
   "metadata": {},
   "source": [
    "Next I plot $PRESS_p$:"
   ]
  },
  {
   "cell_type": "code",
   "execution_count": 180,
   "metadata": {
    "collapsed": false
   },
   "outputs": [
    {
     "data": {
      "image/png": "[encoded data removed]",
      "text/plain": [
       "<IPython.core.display.Image object>"
      ]
     },
     "execution_count": 180,
     "metadata": {},
     "output_type": "execute_result"
    }
   ],
   "source": [
    "Image(filename='/Users/kevin/Dropbox/School/STA-580/final-exam/Scatterplot of PRESS vs p-1.png')"
   ]
  },
  {
   "cell_type": "markdown",
   "metadata": {},
   "source": [
    "And scaled:"
   ]
  },
  {
   "cell_type": "code",
   "execution_count": 181,
   "metadata": {
    "collapsed": false
   },
   "outputs": [
    {
     "data": {
      "image/png": "[encoded data removed]",
      "text/plain": [
       "<IPython.core.display.Image object>"
      ]
     },
     "execution_count": 181,
     "metadata": {},
     "output_type": "execute_result"
    }
   ],
   "source": [
    "Image(filename='/Users/kevin/Dropbox/School/STA-580/final-exam/Scatterplot_of_PRESS_vs_p-1_-scaled.png')"
   ]
  },
  {
   "cell_type": "markdown",
   "metadata": {},
   "source": [
    "Finally, I need $AIC_p$. Since Minitab doesn't provide it, I'm going to collect it for only the models identified as best by the above measures, which would be $(X_1, X_2, X_4)$ and $(X_1, X_2, X_3, X_4)$. Since I'll only be comparing two values, this will not require a graph. "
   ]
  },
  {
   "cell_type": "code",
   "execution_count": 182,
   "metadata": {
    "collapsed": false
   },
   "outputs": [
    {
     "data": {
      "text/plain": [
       "790.39769753892597"
      ]
     },
     "execution_count": 182,
     "metadata": {},
     "output_type": "execute_result"
    }
   ],
   "source": [
    "# First, the full model\n",
    "res1234.aic"
   ]
  },
  {
   "cell_type": "code",
   "execution_count": 183,
   "metadata": {
    "collapsed": false
   },
   "outputs": [
    {
     "data": {
      "text/plain": [
       "788.40506946031473"
      ]
     },
     "execution_count": 183,
     "metadata": {},
     "output_type": "execute_result"
    }
   ],
   "source": [
    "# Regress Y on X1, X2, X4\n",
    "X124 = sm.add_constant(df_bears[['X1 Age', 'X2 Sex', 'X4 Chest.G']])\n",
    "res124 = sm.OLS(Y,X124).fit()\n",
    "# Find AIC\n",
    "res124.aic"
   ]
  },
  {
   "cell_type": "markdown",
   "metadata": {},
   "source": [
    "As you can see, $AIC_p$ is slightly lower for $(X_1, X_2, X_4)$. So, the best subsets according to each measure are:\n",
    "\n",
    "1. $R^2_{ap}$: tie between $(X_1, X_2, X_4)$ and $(X_1, X_2, X_3, X_4)$\n",
    "2. $AIC_p$: $(X_1, X_2, X_4)$\n",
    "3. $C_p$: $(X_1, X_2, X_4)$\n",
    "4. $PRESS_p$: $(X_1, X_2, X_4)$\n",
    "\n",
    "\n",
    "### b. \n",
    "\n",
    "Yes, all four criteria identify the same best subset, $(X_1, X_2, X_4)$. No, this does not always happen.\n",
    "\n",
    "\n",
    "### c. \n",
    "\n",
    "This was done already and the Minitab output is provided above. \n",
    "\n",
    "\n",
    "### d. \n",
    "\n",
    "    Stepwise Selection of Terms\n",
    "\n",
    "    Candidate terms: X4 Chest.G, X1 Age, X3 Length, X2 Sex\n",
    "\n",
    "                 -----Step 1----    -----Step 2----    -----Step 3----\n",
    "                   Coef        P      Coef        P      Coef        P\n",
    "    Constant     -274.7             -247.4             -198.4\n",
    "    X4 Chest.G   12.880    0.000    11.520    0.000    10.781    0.000\n",
    "    X1 Age                           0.491    0.001     0.673    0.000\n",
    "    X2 Sex                                             -23.15    0.002\n",
    "\n",
    "    S                    30.8718            28.8623            27.3029\n",
    "    R-sq                  93.48%             94.37%             95.03%\n",
    "    R-sq(adj)             93.40%             94.23%             94.84%\n",
    "    R-sq(pred)            93.03%             93.71%             94.40%\n",
    "    Mallows’ Cp            23.26              11.28               3.01\n",
    "\n",
    "    α to enter = 0.05, α to remove = 0.1\n",
    "    \n",
    "According to forward stepwise regression, the best subset of predictor variables is $(X_1, X_2, X_4)$.\n",
    "\n",
    "\n",
    "### e. \n",
    "\n",
    "The best model according to $R^2_{ap}$ was a tie between $(X_1, X_2, X_4)$ and $(X_1, X_2, X_3, X_4)$. So yes, this agrees with forward stepwise regression, which identified $(X_1, X_2, X_4)$ as the best model."
   ]
  },
  {
   "cell_type": "markdown",
   "metadata": {},
   "source": [
    "## 3.\n",
    "\n",
    "### a.\n",
    "\n",
    "I am using $(X_1, X_2, X_4)$ as my model."
   ]
  },
  {
   "cell_type": "code",
   "execution_count": 184,
   "metadata": {
    "collapsed": false
   },
   "outputs": [
    {
     "data": {
      "text/plain": [
       "Case\n",
       "1    0.974814\n",
       "2    1.642500\n",
       "3    0.529438\n",
       "4   -1.484862\n",
       "5    0.446980\n",
       "Name: student_resid, dtype: float64"
      ]
     },
     "execution_count": 184,
     "metadata": {},
     "output_type": "execute_result"
    }
   ],
   "source": [
    "inf = res124.get_influence()\n",
    "# Deleted studentized residuals are the last column of this DataFrame\n",
    "df_influence = inf.summary_frame()\n",
    "# Show the first five studentized deleted residuals\n",
    "df_influence.student_resid.head()"
   ]
  },
  {
   "cell_type": "markdown",
   "metadata": {},
   "source": [
    "Find the Bonferonni critical value, $t(1-\\alpha/2n;n-p-1)$:"
   ]
  },
  {
   "cell_type": "code",
   "execution_count": 185,
   "metadata": {
    "collapsed": false
   },
   "outputs": [
    {
     "data": {
      "text/plain": [
       "0.83963375233290471"
      ]
     },
     "execution_count": 185,
     "metadata": {},
     "output_type": "execute_result"
    }
   ],
   "source": [
    "alpha_bon = 0.10\n",
    "bonf = st.t.cdf(1-alpha_bon/(2*n),n-p-1)\n",
    "bonf"
   ]
  },
  {
   "cell_type": "markdown",
   "metadata": {},
   "source": [
    "If the absolute value of a studentized deleted residual is greater than 0.8396, we conclude the case is an outlier. Let's find them:"
   ]
  },
  {
   "cell_type": "code",
   "execution_count": 206,
   "metadata": {
    "collapsed": false
   },
   "outputs": [
    {
     "name": "stdout",
     "output_type": "stream",
     "text": [
      "[1, 2, 4, 8, 12, 13, 14, 16, 17, 18, 25, 26, 29, 31, 33, 37]\n",
      "[41, 44, 46, 51, 53, 58, 64, 68, 70, 72, 73, 75, 76, 90, 132, 139, 140]\n"
     ]
    }
   ],
   "source": [
    "# Let's find all the observations for which the studentized deleted \n",
    "# residual is greater than the Bonferroni critical value\n",
    "outliers_bonf = []\n",
    "for row in df_influence.itertuples():\n",
    "    if np.abs(row.student_resid) > bonf:\n",
    "        outliers_bonf.append(row.Index)  \n",
    "# Print the case numbers of cases with outlying studentized deleted residuals\n",
    "# on two lines since it was getting cut off\n",
    "print(outliers_bonf[:16])\n",
    "print(outliers_bonf[16:])"
   ]
  },
  {
   "cell_type": "markdown",
   "metadata": {},
   "source": [
    "### b.\n",
    "\n",
    "A case is considered to have an outlying X value if the hat matrix diagonal value is greater than $p/n$. Let's find them:"
   ]
  },
  {
   "cell_type": "code",
   "execution_count": 187,
   "metadata": {
    "collapsed": false
   },
   "outputs": [
    {
     "name": "stdout",
     "output_type": "stream",
     "text": [
      "[4, 10, 12, 13, 14, 15, 16, 17, 26, 33, 37, 41, 42, 58, 59, 73, 132]\n"
     ]
    }
   ],
   "source": [
    "# Now let's find all the observations for which the \n",
    "# hat matrix diagonal is greater than p/n\n",
    "h_bar = p/n\n",
    "outliers_hat = []\n",
    "for row in df_influence.itertuples():\n",
    "    if row.hat_diag > h_bar:\n",
    "        outliers_hat.append(row.Index) \n",
    "# Print the case numbers of cases with outlying X values\n",
    "print(outliers_hat)"
   ]
  },
  {
   "cell_type": "markdown",
   "metadata": {},
   "source": [
    "### c. \n",
    "\n",
    "I am going to do the matrix algebra in python again, following along with http://docs.scipy.org/doc/scipy/reference/tutorial/linalg.html. I'll be using $X_1=186$, $X_2=1$, $X_4=51$ and (10.29)."
   ]
  },
  {
   "cell_type": "code",
   "execution_count": 188,
   "metadata": {
    "collapsed": false
   },
   "outputs": [
    {
     "data": {
      "text/plain": [
       "array([[  1],\n",
       "       [186],\n",
       "       [  1],\n",
       "       [ 51]])"
      ]
     },
     "execution_count": 188,
     "metadata": {},
     "output_type": "execute_result"
    }
   ],
   "source": [
    "from scipy import linalg\n",
    "# First term is the constant\n",
    "X_new = np.array([[1], [186], [1], [51]]) # vector of prediction values\n",
    "X_new"
   ]
  },
  {
   "cell_type": "code",
   "execution_count": 189,
   "metadata": {
    "collapsed": false
   },
   "outputs": [
    {
     "data": {
      "text/plain": [
       "array([[  1, 186,   1,  51]])"
      ]
     },
     "execution_count": 189,
     "metadata": {},
     "output_type": "execute_result"
    }
   ],
   "source": [
    "X_new.T  # transpose of X_new"
   ]
  },
  {
   "cell_type": "code",
   "execution_count": 190,
   "metadata": {
    "collapsed": false
   },
   "outputs": [
    {
     "data": {
      "text/plain": [
       "0.33929319662467133"
      ]
     },
     "execution_count": 190,
     "metadata": {},
     "output_type": "execute_result"
    }
   ],
   "source": [
    "h_new_new = X_new.T.dot(linalg.inv(X124.T.dot(X124))).dot(X_new)  # (10.29), p. 400\n",
    "h_new_new = h_new_new[0][0]  # extract value from 1x1 array\n",
    "h_new_new"
   ]
  },
  {
   "cell_type": "markdown",
   "metadata": {},
   "source": [
    "Let's get the range of leverage values:"
   ]
  },
  {
   "cell_type": "code",
   "execution_count": 191,
   "metadata": {
    "collapsed": false
   },
   "outputs": [
    {
     "data": {
      "text/plain": [
       "(0.018177674076655402, 0.32713833750456045)"
      ]
     },
     "execution_count": 191,
     "metadata": {},
     "output_type": "execute_result"
    }
   ],
   "source": [
    "(df_influence.hat_diag.min(), df_influence.hat_diag.max())"
   ]
  },
  {
   "cell_type": "markdown",
   "metadata": {},
   "source": [
    "Since $h_{\\text{new,new}}$ is outside the range of leverage values, this set of predictor values _does_ represent a hidden extrapolation. Upon inspection of the data, this is easy to see. 51 is toward the high end of the range of Girth values and an age of 186 months (15.5 years) is outside the range of observed age data. Those ranges are:"
   ]
  },
  {
   "cell_type": "code",
   "execution_count": 192,
   "metadata": {
    "collapsed": false
   },
   "outputs": [
    {
     "data": {
      "text/plain": [
       "(19.0, 55.0)"
      ]
     },
     "execution_count": 192,
     "metadata": {},
     "output_type": "execute_result"
    }
   ],
   "source": [
    "# Girth observational value range\n",
    "(df_bears['X4 Chest.G'].min(), df_bears['X4 Chest.G'].max())"
   ]
  },
  {
   "cell_type": "code",
   "execution_count": 193,
   "metadata": {
    "collapsed": false
   },
   "outputs": [
    {
     "data": {
      "text/plain": [
       "(8, 177)"
      ]
     },
     "execution_count": 193,
     "metadata": {},
     "output_type": "execute_result"
    }
   ],
   "source": [
    "# Age observational value range\n",
    "(df_bears['X1 Age'].min(), df_bears['X1 Age'].max())"
   ]
  },
  {
   "cell_type": "markdown",
   "metadata": {},
   "source": [
    "### d. \n",
    "\n",
    "After sorting the studentized deleted residuals and inspecting them, I see the three cases with the largest absolute value are cases 132, 76 and 33. Let's collect the influence data for just these three cases:"
   ]
  },
  {
   "cell_type": "code",
   "execution_count": 194,
   "metadata": {
    "collapsed": false
   },
   "outputs": [
    {
     "data": {
      "text/html": [
       "<div>\n",
       "<table border=\"1\" class=\"dataframe\">\n",
       "  <thead>\n",
       "    <tr style=\"text-align: right;\">\n",
       "      <th></th>\n",
       "      <th>dfb_const</th>\n",
       "      <th>dfb_X1 Age</th>\n",
       "      <th>dfb_X2 Sex</th>\n",
       "      <th>dfb_X4 Chest.G</th>\n",
       "      <th>cooks_d</th>\n",
       "      <th>dffits</th>\n",
       "      <th>dffits_internal</th>\n",
       "      <th>hat_diag</th>\n",
       "      <th>standard_resid</th>\n",
       "      <th>student_resid</th>\n",
       "    </tr>\n",
       "    <tr>\n",
       "      <th>Case</th>\n",
       "      <th></th>\n",
       "      <th></th>\n",
       "      <th></th>\n",
       "      <th></th>\n",
       "      <th></th>\n",
       "      <th></th>\n",
       "      <th></th>\n",
       "      <th></th>\n",
       "      <th></th>\n",
       "      <th></th>\n",
       "    </tr>\n",
       "  </thead>\n",
       "  <tbody>\n",
       "    <tr>\n",
       "      <th>33</th>\n",
       "      <td>0.177313</td>\n",
       "      <td>0.022159</td>\n",
       "      <td>0.267857</td>\n",
       "      <td>-0.286331</td>\n",
       "      <td>0.096898</td>\n",
       "      <td>0.640178</td>\n",
       "      <td>0.622568</td>\n",
       "      <td>0.069867</td>\n",
       "      <td>2.271558</td>\n",
       "      <td>2.335814</td>\n",
       "    </tr>\n",
       "    <tr>\n",
       "      <th>76</th>\n",
       "      <td>0.246000</td>\n",
       "      <td>0.352346</td>\n",
       "      <td>-0.010090</td>\n",
       "      <td>-0.414254</td>\n",
       "      <td>0.067433</td>\n",
       "      <td>-0.536335</td>\n",
       "      <td>-0.519357</td>\n",
       "      <td>0.044353</td>\n",
       "      <td>-2.410753</td>\n",
       "      <td>-2.489563</td>\n",
       "    </tr>\n",
       "    <tr>\n",
       "      <th>132</th>\n",
       "      <td>-0.509233</td>\n",
       "      <td>-0.180492</td>\n",
       "      <td>-0.046370</td>\n",
       "      <td>0.697212</td>\n",
       "      <td>0.235381</td>\n",
       "      <td>1.060552</td>\n",
       "      <td>0.970321</td>\n",
       "      <td>0.064541</td>\n",
       "      <td>3.694124</td>\n",
       "      <td>4.037644</td>\n",
       "    </tr>\n",
       "  </tbody>\n",
       "</table>\n",
       "</div>"
      ],
      "text/plain": [
       "      dfb_const  dfb_X1 Age  dfb_X2 Sex  dfb_X4 Chest.G   cooks_d    dffits  \\\n",
       "Case                                                                          \n",
       "33     0.177313    0.022159    0.267857       -0.286331  0.096898  0.640178   \n",
       "76     0.246000    0.352346   -0.010090       -0.414254  0.067433 -0.536335   \n",
       "132   -0.509233   -0.180492   -0.046370        0.697212  0.235381  1.060552   \n",
       "\n",
       "      dffits_internal  hat_diag  standard_resid  student_resid  \n",
       "Case                                                            \n",
       "33           0.622568  0.069867        2.271558       2.335814  \n",
       "76          -0.519357  0.044353       -2.410753      -2.489563  \n",
       "132          0.970321  0.064541        3.694124       4.037644  "
      ]
     },
     "execution_count": 194,
     "metadata": {},
     "output_type": "execute_result"
    }
   ],
   "source": [
    "outliers = [33,76,132]\n",
    "# I'm sure there's a way to find these indices directly, but I don't have time to find it\n",
    "outlier_indices = [29,72,79]  \n",
    "df_influence_outliers = df_influence.iloc[outlier_indices]\n",
    "# Show DFBETAS, Cook's Distance and DFFITS\n",
    "df_influence_outliers"
   ]
  },
  {
   "cell_type": "markdown",
   "metadata": {},
   "source": [
    "#### DFFITS\n",
    "\n",
    "Kutner et al. suggest (p. 401) that we consider a case influential if $DFFIT > 2\\sqrt{\\frac{p}{n}}$ for large data sets. I don't know if 83 observations is a large data set but I'm going to assume it is. Let's calculate that critical value:"
   ]
  },
  {
   "cell_type": "code",
   "execution_count": 195,
   "metadata": {
    "collapsed": false
   },
   "outputs": [
    {
     "data": {
      "text/plain": [
       "0.49088069367381598"
      ]
     },
     "execution_count": 195,
     "metadata": {},
     "output_type": "execute_result"
    }
   ],
   "source": [
    "dffit_crit = 2*np.sqrt(p/n)\n",
    "dffit_crit"
   ]
  },
  {
   "cell_type": "markdown",
   "metadata": {},
   "source": [
    "All three cases have $\\left|DFFIT\\right| > 0.491$, with case 132 having the largest $DFFIT$. "
   ]
  },
  {
   "cell_type": "markdown",
   "metadata": {},
   "source": [
    "#### Cook's Distance\n",
    "\n",
    "Let's check the Cook's distance values against the corresponding F-distribution."
   ]
  },
  {
   "cell_type": "code",
   "execution_count": 196,
   "metadata": {
    "collapsed": false
   },
   "outputs": [
    {
     "name": "stdout",
     "output_type": "stream",
     "text": [
      "(33, 0.31411885320450444)\n",
      "(76, 0.26178542862406146)\n",
      "(132, 0.51437657391877234)\n"
     ]
    }
   ],
   "source": [
    "# First, we need the corresponding F distribution\n",
    "f_bears = st.f(p, n-p)  # f_cp will be F(5, 78)\n",
    "# Now, let's compare each Cook's Distance value against \n",
    "# the F percentile point function\n",
    "for row in df_influence_outliers.itertuples():\n",
    "    percentile = f_bears.ppf(row.cooks_d)  # find the percentile\n",
    "    print((row.Index, percentile))"
   ]
  },
  {
   "cell_type": "markdown",
   "metadata": {},
   "source": [
    "Kutner et al. advise paying special attention to observations for which the percentile value is near 50 percent or more. By this standard, we need to pay special attention to case 132. \n",
    "\n",
    "\n",
    "#### DFBETAS\n",
    "\n",
    "Kutner et al. recommends comparing the absolute value of DFBETA values against  $\\frac{2}{\\sqrt n}$. Let's find this critical value:"
   ]
  },
  {
   "cell_type": "code",
   "execution_count": 197,
   "metadata": {
    "collapsed": false
   },
   "outputs": [
    {
     "data": {
      "text/plain": [
       "0.21952851997938069"
      ]
     },
     "execution_count": 197,
     "metadata": {},
     "output_type": "execute_result"
    }
   ],
   "source": [
    "dfb_crit = 2/np.sqrt(n)\n",
    "dfb_crit"
   ]
  },
  {
   "cell_type": "markdown",
   "metadata": {},
   "source": [
    "Comparing the DFBETAS against this critical value, it appears that cases 132 and possibly 76 have undue influence on the regression coefficients. \n",
    "\n",
    "\n",
    "### e. \n",
    "\n",
    "I already have the fitted values from the regression including all cases. I need to fit another regression without the influential cases and then add back in a fitted value for the X values for the missing case. I will take my method of calculating average absolute percent difference from the ch. 10 homework and turn it into a function so that I can easily use it for each case:"
   ]
  },
  {
   "cell_type": "code",
   "execution_count": 198,
   "metadata": {
    "collapsed": false
   },
   "outputs": [],
   "source": [
    "# Note: this only works for this data set. It would need to be modified \n",
    "# heavily to work for general cases\n",
    "def aapd(case):\n",
    "    # Fit the regression without case case\n",
    "    Y_reduced = df_bears.drop(case)['Y Weight']  # drop the 6th case\n",
    "    X_reduced = X124.drop(case)\n",
    "    # fit an ord. least squares regression to reduced data set\n",
    "    res_reduced = sm.OLS(Y_reduced, X_reduced).fit()\n",
    "    # convert fits to a data type I can modify\n",
    "    fits_reduced = res_reduced.fittedvalues.to_dict()\n",
    "    # calculate the fit for the case we removed and store it with the rest of the fits\n",
    "    par = res_reduced.params\n",
    "    fits_reduced[case] = par['const'] + df_bears['X1 Age'][case]*par['X1 Age'] \\\n",
    "        + df_bears['X2 Sex'][case]*par['X2 Sex'] \\\n",
    "        + df_bears['X4 Chest.G'][case]*par['X4 Chest.G']\n",
    "    # convert original fits to dictionary data type also\n",
    "    fits = res124.fittedvalues.to_dict()\n",
    "    # Calculate the average absolute percent difference\n",
    "    sum = 0\n",
    "    for x in df_bears.index:  # bear case numbers don't follow clean sequence\n",
    "        sum += np.abs((fits_reduced[x] - fits[x])/fits[x])\n",
    "    aapd_val = sum*100/n\n",
    "    return aapd_val"
   ]
  },
  {
   "cell_type": "markdown",
   "metadata": {},
   "source": [
    "Now I can simply call this function for each of the three cases under consideration:"
   ]
  },
  {
   "cell_type": "code",
   "execution_count": 199,
   "metadata": {
    "collapsed": false
   },
   "outputs": [
    {
     "name": "stdout",
     "output_type": "stream",
     "text": [
      "(33, 2.3075180992672144)\n",
      "(76, 0.86495041942375039)\n",
      "(132, 2.1590429381467922)\n"
     ]
    }
   ],
   "source": [
    "for case in outliers:\n",
    "    print((case, aapd(case)))"
   ]
  },
  {
   "cell_type": "markdown",
   "metadata": {},
   "source": [
    "The average absolute percent difference shows the effect of an individual case on inferences made with the regression function calculated with and without that case. We see that none of the influential cases have more than a 2.5% average effect on the fitted values. \n",
    "\n",
    "\n",
    "### f. \n",
    "\n",
    "I am assuming I am to plot Cook's distance for _all_ cases, not just the three influential cases under consideration. "
   ]
  },
  {
   "cell_type": "code",
   "execution_count": 200,
   "metadata": {
    "collapsed": false
   },
   "outputs": [
    {
     "name": "stderr",
     "output_type": "stream",
     "text": [
      "/Users/kevin/envs/stats3/lib/python3.4/site-packages/matplotlib/__init__.py:892: UserWarning: axes.color_cycle is deprecated and replaced with axes.prop_cycle; please use the latter.\n",
      "  warnings.warn(self.msg_depr % (key, alt_key))\n"
     ]
    },
    {
     "data": {
      "text/plain": [
       "<seaborn.axisgrid.JointGrid at 0x113868898>"
      ]
     },
     "execution_count": 200,
     "metadata": {},
     "output_type": "execute_result"
    },
    {
     "data": {
      "image/png": "[encoded data removed]",
      "text/plain": [
       "<matplotlib.figure.Figure at 0x113868860>"
      ]
     },
     "metadata": {},
     "output_type": "display_data"
    }
   ],
   "source": [
    "sns.jointplot(x=df_influence.index, y=df_influence.cooks_d)"
   ]
  },
  {
   "cell_type": "markdown",
   "metadata": {},
   "source": [
    "Yes, case 132 ($D_i=0.235$) is influential by this measure."
   ]
  },
  {
   "cell_type": "markdown",
   "metadata": {},
   "source": [
    "### g. "
   ]
  },
  {
   "cell_type": "code",
   "execution_count": 201,
   "metadata": {
    "collapsed": false
   },
   "outputs": [
    {
     "name": "stderr",
     "output_type": "stream",
     "text": [
      "/Users/kevin/envs/stats3/lib/python3.4/site-packages/matplotlib/__init__.py:892: UserWarning: axes.color_cycle is deprecated and replaced with axes.prop_cycle; please use the latter.\n",
      "  warnings.warn(self.msg_depr % (key, alt_key))\n"
     ]
    },
    {
     "data": {
      "text/plain": [
       "<seaborn.axisgrid.PairGrid at 0x113936f60>"
      ]
     },
     "execution_count": 201,
     "metadata": {},
     "output_type": "execute_result"
    },
    {
     "data": {
      "image/png": "[encoded data removed]",
      "text/plain": [
       "<matplotlib.figure.Figure at 0x113ad1978>"
      ]
     },
     "metadata": {},
     "output_type": "display_data"
    }
   ],
   "source": [
    "sns.pairplot(df_bears[['X1 Age', 'X2 Sex', 'X4 Chest.G']])"
   ]
  },
  {
   "cell_type": "markdown",
   "metadata": {},
   "source": [
    "    Correlation: X1 Age, X2 Sex, X4 Chest.G \n",
    "\n",
    "                    X1 Age      X2 Sex\n",
    "    X2 Sex           0.119\n",
    "                     0.285\n",
    "\n",
    "    X4 Chest.G       0.734      -0.197\n",
    "                     0.000       0.074\n",
    "\n",
    "\n",
    "    Cell Contents: Pearson correlation\n",
    "                   P-Value\n",
    "\n",
    "I have a hard time visually seeing pairwise linear correlations between $X_2$ (sex) and the other variables. The correlation matrix shows that there is a statistically significant correlation between $X_1$ and $X_2$ (P-value = 0.285), though the the correlation coefficient $r$ is only 0.119. Visually, it appears that there is a strong linear correlation between $X_1$ and $X_4$. $r$ is 0.734, but the P-value is 0+, so perhaps it is not as significant as it looks. \n",
    "\n",
    "\n",
    "### h. \n",
    "\n",
    "First, we need $R^2_k$ for $X_1, X_2, X_4$:"
   ]
  },
  {
   "cell_type": "code",
   "execution_count": 202,
   "metadata": {
    "collapsed": false
   },
   "outputs": [
    {
     "data": {
      "text/plain": [
       "{1: 0.61147415512159564, 2: 0.18984321513238167, 4: 0.62125176242913049}"
      ]
     },
     "execution_count": 202,
     "metadata": {},
     "output_type": "execute_result"
    }
   ],
   "source": [
    "# Set up the \"X\" matrices\n",
    "X24 = sm.add_constant(df_bears[['X2 Sex', 'X4 Chest.G']])\n",
    "X14 = sm.add_constant(df_bears[['X1 Age', 'X4 Chest.G']])\n",
    "X12 = sm.add_constant(df_bears[['X1 Age', 'X2 Sex']])\n",
    "# Perform the regression fits\n",
    "res_k1 = sm.OLS(df_bears['X1 Age'], X24).fit()\n",
    "res_k2 = sm.OLS(df_bears['X2 Sex'], X14).fit()\n",
    "res_k4 = sm.OLS(df_bears['X4 Chest.G'], X12).fit()\n",
    "# Find each of the R-squared values\n",
    "r_sq = {\n",
    "    1: res_k1.rsquared, \n",
    "    2: res_k2.rsquared, \n",
    "    4: res_k4.rsquared\n",
    "    }\n",
    "r_sq"
   ]
  },
  {
   "cell_type": "markdown",
   "metadata": {},
   "source": [
    "Now, using (10.41), we calculate VIF values:"
   ]
  },
  {
   "cell_type": "code",
   "execution_count": 203,
   "metadata": {
    "collapsed": false
   },
   "outputs": [
    {
     "name": "stdout",
     "output_type": "stream",
     "text": [
      "('X1', 2.5738313504291246)\n",
      "('X2', 1.2343289825850221)\n",
      "('X4', 2.640276312342932)\n"
     ]
    }
   ],
   "source": [
    "for i, r in r_sq.items():\n",
    "    print(('X{i}'.format(i=i), 1/(1-r)))  # calculate VIF values"
   ]
  },
  {
   "cell_type": "markdown",
   "metadata": {},
   "source": [
    "Since Kutner et al. indicate that $VIF$ values greater than 10 indicate that multicollinearity may be unduly influencing least squares estimates and all of the $VIF$ values for this model are less than 3, I do not think multicollinearity is a concern. Yes, these results are more revealing than my results in part (g), which were less certain."
   ]
  }
 ],
 "metadata": {
  "kernelspec": {
   "display_name": "Python 3",
   "language": "python",
   "name": "python3"
  },
  "language_info": {
   "codemirror_mode": {
    "name": "ipython",
    "version": 3
   },
   "file_extension": ".py",
   "mimetype": "text/x-python",
   "name": "python",
   "nbconvert_exporter": "python",
   "pygments_lexer": "ipython3",
   "version": "3.4.3"
  }
 },
 "nbformat": 4,
 "nbformat_minor": 0
}
