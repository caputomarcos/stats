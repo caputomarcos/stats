{
 "cells": [
  {
   "cell_type": "markdown",
   "metadata": {},
   "source": [
    "Problems 7, 18"
   ]
  },
  {
   "cell_type": "code",
   "execution_count": 1,
   "metadata": {
    "collapsed": false
   },
   "outputs": [
    {
     "name": "stderr",
     "output_type": "stream",
     "text": [
      "/Users/kevin/envs/stats3/lib/python3.4/site-packages/matplotlib/__init__.py:872: UserWarning: axes.color_cycle is deprecated and replaced with axes.prop_cycle; please use the latter.\n",
      "  warnings.warn(self.msg_depr % (key, alt_key))\n"
     ]
    }
   ],
   "source": [
    "%matplotlib inline\n",
    "\n",
    "import numpy as np\n",
    "import scipy.stats as st\n",
    "import pandas as pd\n",
    "import statsmodels.api as sm\n",
    "import statsmodels.stats.api as sms\n",
    "import statsmodels.formula.api as smf\n",
    "import statsmodels.stats as stats\n",
    "import matplotlib.pyplot as plt\n",
    "import seaborn as sns\n",
    "from IPython.display import Image\n",
    "from statsmodels import stats"
   ]
  },
  {
   "cell_type": "markdown",
   "metadata": {},
   "source": [
    "## 7\n",
    "\n",
    "### a. "
   ]
  },
  {
   "cell_type": "code",
   "execution_count": 2,
   "metadata": {
    "collapsed": false
   },
   "outputs": [
    {
     "data": {
      "image/png": "[encoded data removed]",
      "text/plain": [
       "<IPython.core.display.Image object>"
      ]
     },
     "execution_count": 2,
     "metadata": {},
     "output_type": "execute_result"
    }
   ],
   "source": [
    "Image(filename='/Users/kevin/Dropbox/School/STA-580/ch16hw/Dotplot of Productivity.png')"
   ]
  },
  {
   "cell_type": "markdown",
   "metadata": {},
   "source": [
    "Yes, the factor level means appear to differ. Yes, the variability for each level (low, moderate, and high spending on R&D) appear to be approximately the same.\n",
    "\n",
    "\n",
    "### b. \n",
    "\n",
    "    i   N   Mean  StDev      95% CI\n",
    "    1   9  6.878  0.814  (6.327, 7.428)\n",
    "    2  12  8.133  0.757  (7.657, 8.610)\n",
    "    3   6  9.200  0.867  (8.526, 9.874)\n",
    "    \n",
    "\n",
    "### c. \n",
    "\n",
    "\tRESI\n",
    "\t0.72222\n",
    "\t1.32222\n",
    "\t-0.07778\n",
    "\t-1.07778\n",
    "\t0.02222\n",
    "\t-0.27778\n",
    "\t-0.57778\n",
    "\t0.82222\n",
    "\t-0.87778\n",
    "\t-1.43333\n",
    "\t-0.03333\n",
    "\t1.26667\n",
    "\t0.46667\n",
    "\t-0.33333\n",
    "\t-0.43333\n",
    "\t0.76667\n",
    "\t-0.23333\n",
    "\t0.16667\n",
    "\t0.56667\n",
    "\t-1.03333\n",
    "\t0.26667\n",
    "\t-0.7\n",
    "\t0.5\n",
    "\t0.9\n",
    "\t-1.4\n",
    "\t0.4\n",
    "\t0.3\n",
    "\t\n",
    "    Total:\t2E-05\n",
    "\n",
    "Yes, they sum to zero.\n",
    "\n",
    "\n",
    "### d. \n",
    "\n",
    "    Analysis of Variance\n",
    "\n",
    "    Source  DF  Seq SS  Contribution  Adj SS   Adj MS  F-Value  P-Value\n",
    "    i        2   20.13        56.71%   20.13  10.0626    15.72    0.000\n",
    "    Error   24   15.36        43.29%   15.36   0.6401\n",
    "    Total   26   35.49       100.00%\n",
    "    \n",
    "    \n",
    "### e. \n",
    "\n",
    "Alternatives: \n",
    "\n",
    "$$\n",
    "\\begin{aligned}\n",
    "H_0&: \\mu_1 = \\mu_2 = \\mu_3 \\\\\n",
    "H_a&: \\text{not all }\\mu_i \\text{ are equal}\n",
    "\\end{aligned}\n",
    "$$\n",
    "\n",
    "Decision rule:\n",
    "\n",
    "If $F^* \\le F(1-\\alpha;r-1,n_T-r)$, conclude $H_0$  \n",
    "If $F^* > F(1-\\alpha;r-1,n_T-r)$, conclude $H_a$"
   ]
  },
  {
   "cell_type": "code",
   "execution_count": 8,
   "metadata": {
    "collapsed": false
   },
   "outputs": [
    {
     "data": {
      "text/plain": [
       "4.2596772726902312"
      ]
     },
     "execution_count": 8,
     "metadata": {},
     "output_type": "execute_result"
    }
   ],
   "source": [
    "# Find F(critical)\n",
    "alpha = 0.05\n",
    "r = 3\n",
    "n_T = 27\n",
    "f_star = st.f.ppf(1-alpha,r-2,n_T-r)\n",
    "f_star"
   ]
  },
  {
   "cell_type": "markdown",
   "metadata": {},
   "source": [
    "\n",
    "\n",
    "We can see from the ANOVA table that $F^*=15.72$ and the P-value associated with the test is 0+. Since $F^* > F_{\\text{critical}}$, we conclude $H_a$: there is enough evidence to show that not all $\\mu_i$ are equal. "
   ]
  },
  {
   "cell_type": "markdown",
   "metadata": {},
   "source": [
    "### f. "
   ]
  },
  {
   "cell_type": "markdown",
   "metadata": {},
   "source": [
    "The P-value of the $F^*$ test is 0+. A low probability supports $H_a$. \n",
    "\n",
    "\n",
    "### g. \n",
    "\n",
    "It appears that productivity is directly proportional to spending on research and development. "
   ]
  },
  {
   "cell_type": "markdown",
   "metadata": {},
   "source": [
    "## 18\n",
    "\n",
    "### a.\n",
    "\n",
    "    Y     X-const  X-1   X-2\n",
    "    7.6   1        1     0\n",
    "    8.2   1        1     0\n",
    "    6.8   1        1     0\n",
    "    5.8   1        1     0\n",
    "    6.9   1        1     0\n",
    "    6.6   1        1     0\n",
    "    6.3   1        1     0\n",
    "    7.7   1        1     0\n",
    "    6     1        1     0\n",
    "    6.7   1        0     1\n",
    "    8.1   1        0     1\n",
    "    9.4   1        0     1\n",
    "    8.6   1        0     1\n",
    "    7.8   1        0     1\n",
    "    7.7   1        0     1\n",
    "    8.9   1        0     1\n",
    "    7.9   1        0     1\n",
    "    8.3   1        0     1\n",
    "    8.7   1        0     1\n",
    "    7.1   1        0     1\n",
    "    8.4   1        0     1\n",
    "    8.5   1        -1    -1\n",
    "    9.7   1        -1    -1\n",
    "    10.1  1        -1    -1\n",
    "    7.8   1        -1    -1\n",
    "    9.6   1        -1    -1\n",
    "    9.5   1        -1    -1\n",
    "\n",
    "$\\mathbf{\\beta}$:  \n",
    "$\\mu.$  \n",
    "$\\tau_1$  \n",
    "$\\tau_2$  \n",
    "\n",
    "### b. \n",
    "\n",
    "$\\mu. + \\tau_1$  \n",
    "$\\mu. + \\tau_1$  \n",
    "$\\mu. + \\tau_1$  \n",
    "$\\mu. + \\tau_1$  \n",
    "$\\mu. + \\tau_1$  \n",
    "$\\mu. + \\tau_1$  \n",
    "$\\mu. + \\tau_1$  \n",
    "$\\mu. + \\tau_1$  \n",
    "$\\mu. + \\tau_1$  \n",
    "$\\mu. + \\tau_2$  \n",
    "$\\mu. + \\tau_2$  \n",
    "$\\mu. + \\tau_2$  \n",
    "$\\mu. + \\tau_2$  \n",
    "$\\mu. + \\tau_2$  \n",
    "$\\mu. + \\tau_2$  \n",
    "$\\mu. + \\tau_2$  \n",
    "$\\mu. + \\tau_2$  \n",
    "$\\mu. + \\tau_2$  \n",
    "$\\mu. + \\tau_2$  \n",
    "$\\mu. + \\tau_2$  \n",
    "$\\mu. + \\tau_2$  \n",
    "$\\mu. - \\tau_1 - \\tau_2$  \n",
    "$\\mu. - \\tau_1 - \\tau_2$  \n",
    "$\\mu. - \\tau_1 - \\tau_2$  \n",
    "$\\mu. - \\tau_1 - \\tau_2$  \n",
    "$\\mu. - \\tau_1 - \\tau_2$  \n",
    "$\\mu. - \\tau_1 - \\tau_2$  "
   ]
  },
  {
   "cell_type": "markdown",
   "metadata": {},
   "source": [
    "In terms of $\\mu_i$:  \n",
    "------------------------------------------------------------------------------------------\n",
    "$\\mu_1$  \n",
    "$\\mu_1$  \n",
    "$\\mu_1$  \n",
    "$\\mu_1$  \n",
    "$\\mu_1$  \n",
    "$\\mu_1$  \n",
    "$\\mu_1$  \n",
    "$\\mu_1$  \n",
    "$\\mu_1$  \n",
    "$\\mu_2$  \n",
    "$\\mu_2$  \n",
    "$\\mu_2$  \n",
    "$\\mu_2$  \n",
    "$\\mu_2$  \n",
    "$\\mu_2$  \n",
    "$\\mu_2$  \n",
    "$\\mu_2$  \n",
    "$\\mu_2$  \n",
    "$\\mu_2$  \n",
    "$\\mu_2$  \n",
    "$\\mu_2$  \n",
    "$\\mu_3$  \n",
    "$\\mu_3$  \n",
    "$\\mu_3$  \n",
    "$\\mu_3$  \n",
    "$\\mu_3$  \n",
    "$\\mu_3$  \n",
    "\n",
    "\n",
    "### c. \n",
    "\n",
    "Prod = 8.070 - 1.193 X1 + 0.063 X2; $\\mu.$ is estimated by the intercept term.\n",
    "\n",
    "\n",
    "### d. \n",
    "\n",
    "    Analysis of VarianceI\n",
    "\n",
    "    Source      DF   Seq SS  Contribution   Adj SS   Adj MS  F-Value  P-Value\n",
    "    Regression   2  20.1252        56.71%  20.1252  10.0626    15.72    0.000\n",
    "      X1         1  20.0668        56.55%  18.4327  18.4327    28.80    0.000\n",
    "      X2         1   0.0584         0.16%   0.0584   0.0584     0.09    0.765\n",
    "    Error       24  15.3622        43.29%  15.3622   0.6401\n",
    "    Total       26  35.4874       100.00%\n",
    "    \n",
    "  \n",
    "### e.\n",
    "  \n",
    "Alternatives: \n",
    "\n",
    "$$\n",
    "\\begin{aligned}\n",
    "H_0&: \\tau_1 = \\tau_2 = 0 \\\\\n",
    "H_a&: \\text{not all }\\tau_i \\text{ are equal}\n",
    "\\end{aligned}\n",
    "$$\n",
    "\n",
    "\n",
    "Since the alternative formulation of the single-factor ANOVA model is equivalent, the $F^*$ test is equivalent.  Therefore, $F^*=15.72$ and the P-value associated with the test is 0+, same as before. Using $\\alpha=0.1$ does not change the result of the test since the P-value is 0+. We still conclude $H_a$, which in this case means there is enough evidence to show that not all $\\tau_i$ are zero."
   ]
  }
 ],
 "metadata": {
  "kernelspec": {
   "display_name": "Python 3",
   "language": "python",
   "name": "python3"
  },
  "language_info": {
   "codemirror_mode": {
    "name": "ipython",
    "version": 3
   },
   "file_extension": ".py",
   "mimetype": "text/x-python",
   "name": "python",
   "nbconvert_exporter": "python",
   "pygments_lexer": "ipython3",
   "version": "3.4.3"
  }
 },
 "nbformat": 4,
 "nbformat_minor": 0
}
