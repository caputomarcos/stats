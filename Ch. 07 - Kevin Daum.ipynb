{
 "cells": [
  {
   "cell_type": "markdown",
   "metadata": {},
   "source": [
    "Problems 7,8,10,15,19"
   ]
  },
  {
   "cell_type": "code",
   "execution_count": 45,
   "metadata": {
    "collapsed": false
   },
   "outputs": [],
   "source": [
    "%matplotlib inline\n",
    "\n",
    "import numpy as np\n",
    "import scipy.stats as st\n",
    "import pandas as pd\n",
    "import statsmodels.api as sm\n",
    "import statsmodels.stats.api as sms\n",
    "import matplotlib.pyplot as plt\n",
    "import seaborn as sns\n",
    "from IPython.display import Image\n",
    "from statsmodels import stats"
   ]
  },
  {
   "cell_type": "markdown",
   "metadata": {},
   "source": [
    "## 7.7\n",
    "\n",
    "### a."
   ]
  },
  {
   "cell_type": "code",
   "execution_count": 46,
   "metadata": {
    "collapsed": false
   },
   "outputs": [
    {
     "data": {
      "text/html": [
       "<div>\n",
       "<table border=\"1\" class=\"dataframe\">\n",
       "  <thead>\n",
       "    <tr style=\"text-align: right;\">\n",
       "      <th></th>\n",
       "      <th>Y-rental_rate</th>\n",
       "      <th>X1-age</th>\n",
       "      <th>X2-expenses</th>\n",
       "      <th>X3-vacancy_rate</th>\n",
       "      <th>X4-footage</th>\n",
       "    </tr>\n",
       "  </thead>\n",
       "  <tbody>\n",
       "    <tr>\n",
       "      <th>0</th>\n",
       "      <td>13.5</td>\n",
       "      <td>1</td>\n",
       "      <td>5.02</td>\n",
       "      <td>0.14</td>\n",
       "      <td>123000</td>\n",
       "    </tr>\n",
       "    <tr>\n",
       "      <th>1</th>\n",
       "      <td>12.0</td>\n",
       "      <td>14</td>\n",
       "      <td>8.19</td>\n",
       "      <td>0.27</td>\n",
       "      <td>104079</td>\n",
       "    </tr>\n",
       "    <tr>\n",
       "      <th>2</th>\n",
       "      <td>10.5</td>\n",
       "      <td>16</td>\n",
       "      <td>3.00</td>\n",
       "      <td>0.00</td>\n",
       "      <td>39998</td>\n",
       "    </tr>\n",
       "    <tr>\n",
       "      <th>3</th>\n",
       "      <td>15.0</td>\n",
       "      <td>4</td>\n",
       "      <td>10.70</td>\n",
       "      <td>0.05</td>\n",
       "      <td>57112</td>\n",
       "    </tr>\n",
       "    <tr>\n",
       "      <th>4</th>\n",
       "      <td>14.0</td>\n",
       "      <td>11</td>\n",
       "      <td>8.97</td>\n",
       "      <td>0.07</td>\n",
       "      <td>60000</td>\n",
       "    </tr>\n",
       "  </tbody>\n",
       "</table>\n",
       "</div>"
      ],
      "text/plain": [
       "   Y-rental_rate  X1-age  X2-expenses  X3-vacancy_rate  X4-footage\n",
       "0           13.5       1         5.02             0.14      123000\n",
       "1           12.0      14         8.19             0.27      104079\n",
       "2           10.5      16         3.00             0.00       39998\n",
       "3           15.0       4        10.70             0.05       57112\n",
       "4           14.0      11         8.97             0.07       60000"
      ]
     },
     "execution_count": 46,
     "metadata": {},
     "output_type": "execute_result"
    }
   ],
   "source": [
    "# Load the commercial properties data\n",
    "cp_df = pd.read_table('/Users/kevin/Dropbox/School/STA-580/ch6hw/CH06PR18.txt',\n",
    "                     sep='\\s*', index_col=False, engine='python',\n",
    "                     names=['Y-rental_rate', 'X1-age', 'X2-expenses', 'X3-vacancy_rate', 'X4-footage'])\n",
    "cp_df.head()"
   ]
  },
  {
   "cell_type": "markdown",
   "metadata": {},
   "source": [
    "The desired regression sums of squares (associated with X4, X1 given X4, etc.) are in the \"Seq SS\" column:\n",
    "\n",
    "    Analysis of Variance\n",
    "\n",
    "    Source               DF   Seq SS  Contribution   Adj SS   Adj MS  F-Value  P-Value\n",
    "    Regression            4  138.327        58.47%  138.327  34.5817    26.76    0.000\n",
    "      X4 - footage        1   67.775        28.65%   42.325  42.3250    32.75    0.000\n",
    "      X1 - age            1   42.275        17.87%   57.243  57.2428    44.29    0.000\n",
    "      X2 - expenses       1   27.857        11.78%   25.759  25.7590    19.93    0.000\n",
    "      X3 - vacancy rate   1    0.420         0.18%    0.420   0.4197     0.32    0.570\n",
    "    Error                76   98.231        41.53%   98.231   1.2925\n",
    "    Total                80  236.558       100.00%\n",
    "    \n",
    "To check this, I'll regress Y on X4:\n",
    "\n",
    "    Source          DF   Seq SS  Contribution   Adj SS   Adj MS  F-Value  P-Value\n",
    "    Regression       1   67.775        28.65%   67.775  67.7751    31.72    0.000\n",
    "    \n",
    "And then Y on X4 and X1:\n",
    "\n",
    "    Source          DF   Seq SS  Contribution   Adj SS   Adj MS  F-Value  P-Value\n",
    "    Regression       2  110.050        46.52%  110.050  55.0248    33.93    0.000\n",
    "    \n",
    "Both approaches agree that $SSR(X_4) = 67.775$. And:\n",
    "\n",
    "$$SSR(X_1 \\mid X_4) = SSR(X_1,X_4) - SSR(X_4) = 110.050 - 67.775 = 42.275$$\n",
    "\n",
    ", which agrees with the value in the Seq SS column above as well. "
   ]
  },
  {
   "cell_type": "markdown",
   "metadata": {},
   "source": [
    "### b.\n",
    "\n",
    "The alternatives are:\n",
    "\n",
    "$$H_0: \\beta_3 = 0$$\n",
    "$$H_a: \\beta_3 \\ne 0$$\n",
    "\n",
    "If $H_0$ holds, $F^* \\sim F(1,n-p)$. Large values of $F^*$ lead to $H_a$. \n",
    "\n",
    "You can see from the ANOVA table above that $F^*$ = 0.32 and $P$-value = 0.570. We conclude $H_0$ ($X_3$ can be dropped from the regression model given that $X_1$, $X_2$ and $X_4$ are retained). "
   ]
  },
  {
   "cell_type": "markdown",
   "metadata": {},
   "source": [
    "## 7.8\n",
    "\n",
    "The alternatives are:\n",
    "\n",
    "$$\n",
    "\\begin{aligned}\n",
    "H_0&: \\beta_2 = \\beta_3 = 0 \\\\\n",
    "H_a&: \\text{not both } \\beta_2 \\text{ and } \\beta_3 \\text{ equal } 0 \\\\\n",
    "\\end{aligned}\n",
    "$$\n",
    "\n",
    "If $H_0$ holds, $F^* \\sim F(p-q,n-p)$. Large values of $F^*$ lead to $H_a$. \n",
    "\n",
    "Using (7.27) and (7.28):\n",
    "\n",
    "$$F^* = \\frac{SSR(X_2 \\mid X_1,X_3,X_4)+SSR(X_3 \\mid X_1,X_2,X_4)}{p-q} \\div \\frac{SSE(X_1,X_2,X_3,X_4)}{n-p}$$\n",
    "\n",
    "Substituting from the ANOVA table above, we have\n",
    "\n",
    "$$F^* = \\frac{25.7590+0.4197}{5-3} \\div \\frac{98.231}{81-5}$$"
   ]
  },
  {
   "cell_type": "code",
   "execution_count": 47,
   "metadata": {
    "collapsed": false
   },
   "outputs": [
    {
     "data": {
      "text/plain": [
       "10.127053577791125"
      ]
     },
     "execution_count": 47,
     "metadata": {},
     "output_type": "execute_result"
    }
   ],
   "source": [
    "f_star_8 = (25.7590+0.4197)/(5-3)/(98.231/(81-5))\n",
    "f_star_8"
   ]
  },
  {
   "cell_type": "markdown",
   "metadata": {},
   "source": [
    "$F(p-q,n-p)  = F(0.01,2,76)$:"
   ]
  },
  {
   "cell_type": "code",
   "execution_count": 48,
   "metadata": {
    "collapsed": false
   },
   "outputs": [
    {
     "data": {
      "text/plain": [
       "4.89583988401818"
      ]
     },
     "execution_count": 48,
     "metadata": {},
     "output_type": "execute_result"
    }
   ],
   "source": [
    "f_crit_8 = st.f.ppf(0.99,2,76)\n",
    "f_crit_8"
   ]
  },
  {
   "cell_type": "markdown",
   "metadata": {},
   "source": [
    "Since $F^*$ > $F_{critical}$, we conclude $H_a$ (we cannot drop both $X_2$ and $X_3$ from the regression model). The $P$-value is:"
   ]
  },
  {
   "cell_type": "code",
   "execution_count": 49,
   "metadata": {
    "collapsed": false
   },
   "outputs": [
    {
     "data": {
      "text/plain": [
       "0.00012617817769108752"
      ]
     },
     "execution_count": 49,
     "metadata": {},
     "output_type": "execute_result"
    }
   ],
   "source": [
    "st.f.sf(f_star_8, 2,76)"
   ]
  },
  {
   "cell_type": "markdown",
   "metadata": {},
   "source": [
    "## 7.10\n",
    "\n",
    "Alternatives:\n",
    "\n",
    "$$\n",
    "\\begin{aligned}\n",
    "H_0&: \\beta_1 = -0.1, \\beta_2 = 0.4 \\\\\n",
    "H_a&: \\text{not both equalities in } H_0 \\text{ hold} \\\\\n",
    "\\end{aligned}\n",
    "$$\n",
    "\n",
    "Full model:\n",
    "\n",
    "$$Y_i = \\beta_0 + \\beta_1X_{i1} + \\beta_2X_{i2} + \\beta_3X_{i3} + \\beta_4X_{i4}$$\n",
    "\n",
    "$$SSE(F) = 98.231$$\n",
    "\n",
    "$$df_F = 76$$\n",
    "\n",
    "Reduced model:\n",
    "\n",
    "$$Y_i + 0.1X_{i1} - 0.4X_{i2} = \\beta_0 + \\beta_3X_{i3} + \\beta_4X_{i4}$$\n",
    "\n",
    "$$SSE(R) = 110.141$$\n",
    "\n",
    "$$df_R = 78$$\n",
    "\n",
    "Using (2.70):\n",
    "\n",
    "$$F^* = \\frac{110.141-98.231}{78-76} \\div \\frac{98.231}{76}$$"
   ]
  },
  {
   "cell_type": "code",
   "execution_count": 50,
   "metadata": {
    "collapsed": false
   },
   "outputs": [
    {
     "data": {
      "text/plain": [
       "0.0007976632952723154"
      ]
     },
     "execution_count": 50,
     "metadata": {},
     "output_type": "execute_result"
    }
   ],
   "source": [
    "f_star_10 = (110.141-98.231)/(78-76)/98.231/76\n",
    "f_star_10"
   ]
  },
  {
   "cell_type": "markdown",
   "metadata": {},
   "source": [
    "The decision rule is in (2.71)."
   ]
  },
  {
   "cell_type": "code",
   "execution_count": 51,
   "metadata": {
    "collapsed": false
   },
   "outputs": [
    {
     "data": {
      "text/plain": [
       "4.89583988401818"
      ]
     },
     "execution_count": 51,
     "metadata": {},
     "output_type": "execute_result"
    }
   ],
   "source": [
    "f_crit_10 = st.f.ppf(1-0.01,78-76,76)\n",
    "f_crit_10"
   ]
  },
  {
   "cell_type": "markdown",
   "metadata": {},
   "source": [
    "Since $F^* < F_{crit}$, we conclude $H_0$ (there is not evidence to support both equalites not being true)."
   ]
  },
  {
   "cell_type": "markdown",
   "metadata": {},
   "source": [
    "## 7.15\n",
    "\n",
    "We'll be using (7.35)-(7.40). We regress $Y$ on $X_4$:\n",
    "\n",
    "    Regression Analysis: Y - rental rate versus X4 - footage \n",
    "\n",
    "          S    R-sq  R-sq(adj)    PRESS  R-sq(pred)\n",
    "    1.46167  28.65%     27.75%  178.578      24.51%\n",
    "\n",
    "$$R^2_{Y4} = 0.2865$$\n",
    "\n",
    "$R^2_{Y4}$ is the percentage of variation in $Y$ explained by $X_4$.\n",
    "\n",
    "We regress $Y$ on $X_1$:\n",
    "\n",
    "    Regression Analysis: Y - rental rate versus X1 - age \n",
    "\n",
    "          S   R-sq  R-sq(adj)    PRESS  R-sq(pred)\n",
    "    1.67536  6.26%      5.08%  233.922       1.11%\n",
    "\n",
    "$$R^2_{Y1} = 0.0626$$\n",
    "\n",
    "$R^2_{Y1}$ is the percentage of variation in $Y$ explained by $X_1$.\n",
    "\n",
    "We take $SSR(X_1 \\mid X_4)$ from the ANOVA table above and $SSE(X_4)$ from regressing $Y$ on $X_4$:\n",
    "\n",
    "    Regression Analysis: Y - rental rate versus X4 - footage \n",
    "\n",
    "    Source          DF   Seq SS  Contribution   Adj SS   Adj MS  F-Value  P-Value\n",
    "    Error           79  168.782        71.35%  168.782   2.1365\n",
    "\n",
    "$$R^2_{Y1 \\mid 4} = \\frac{SSR(X_1 \\mid X_4)}{SSE(X_4)} = \\frac{42.275}{168.782} = 0.2505 $$\n",
    "\n",
    "(See below for calculations.)\n",
    "\n",
    "$R^2_{Y1 \\mid 4}$ is the percentage of variation in $Y$ explained by $X_1$ given that $X_4$ is already in the model. Or, in the language of Kutner et al., it's the proportionate reduction in the variation in $Y$ remaining after $X_4$ is included in the model that is gained by also including $X_1$ in the model.\n",
    "\n",
    "We regress $Y$ on $X_1$ and $X_4$:\n",
    "\n",
    "    Regression Analysis: Y - rental rate versus X4 - footage, X1 - age \n",
    "\n",
    "          S    R-sq  R-sq(adj)    PRESS  R-sq(pred)\n",
    "    1.27354  46.52%     45.15%  138.412      41.49%\n",
    "\n",
    "$$R^2_{Y14} = 0.4652$$\n",
    "\n",
    "$R^2_{Y14}$ is the variation in Y explained by $X_1$ and $X_4$ together. \n",
    "\n",
    "We take $SSR(X_2 \\mid X_1,X_4)$ from the ANOVA table above and $SSE(X_1,X_4)$ from regressing $Y$ on $X_1$ and $X_4$:\n",
    "\n",
    "    Regression Analysis: Y - rental rate versus X4 - footage, X1 - age \n",
    "\n",
    "    Source          DF   Seq SS  Contribution   Adj SS   Adj MS  F-Value  P-Value\n",
    "    Error           78  126.508        53.48%  126.508   1.6219\n",
    "\n",
    "$$R^2_{Y2 \\mid 14} = \\frac{SSR(X_2 \\mid X_1,X_4)}{SSE(X_1,X_4)} = \\frac{27.857}{126.508} = 0.2202$$\n",
    "\n",
    "$R^2_{Y2 \\mid 14}$ is the proportionate reduction in the variation in $Y$ from adding $X_2$ to the model, given that $X_1$ and $X_4$ are already in the model.\n",
    "\n",
    "We take $SSR(X_3 \\mid X_1,X_2,X_4)$ from the ANOVA table above and $SSE(X_1,X_2,X_4)$ from regressing $Y$ on $X_1$, $X_2$, and $X_4$:\n",
    "\n",
    "    Regression Analysis: Y - rental rate versus X1 - age, X2 - expenses, X4 - footage \n",
    "\n",
    "    Source           DF  Seq SS  Contribution  Adj SS  Adj MS  F-Value  P-Value\n",
    "    Error            77   98.65        41.70%   98.65   1.281\n",
    "\n",
    "$$R^2_{Y3 \\mid 124} = \\frac{SSR(X_3 \\mid X_1,X_2,X_4)}{SSE(X_1,X_2,X_4)} = \\frac{0.420}{98.65} = 0.0043$$\n",
    "\n",
    "$R^2_{Y3 \\mid 124}$ is the proportionate reduction in the variation in $Y$ from adding $X_3$ to the model, given that $X_1$, $X_2$ and $X_4$ are already in the model.\n",
    "\n",
    "$R^2$ comes from the full model:\n",
    "\n",
    "    Regression Analysis: Y - rental r versus X4 - footage, X1 - age, X2 - expense, X3 - vacancy \n",
    "\n",
    "          S    R-sq  R-sq(adj)    PRESS  R-sq(pred)\n",
    "    1.13689  58.47%     56.29%  114.278      51.69%\n",
    "\n",
    "$$R^2 = 0.5847$$\n",
    "\n",
    "$R^2$ is the percentage of variation in $Y$ explained by $X_1$, $X_2$, $X_3$ and $X_4$ together. \n",
    "\n",
    "What do all these coefficients of determination show? On it's own, $X_1$ (age) doesn't contribute much to the model, but when combined with $X_4$ (square footage), together they explain 47% of the variation in $Y$. $X_2$ (taxes and expenses) also contributes significantly to the model but $X_3$ (vacancy rate) does not. \n",
    "\n",
    "The degree of marginal linear association between $Y$ and $X_1$, when adjusted for $X_4$, increases dramatically (from 6% to 25%). "
   ]
  },
  {
   "cell_type": "code",
   "execution_count": 52,
   "metadata": {
    "collapsed": false
   },
   "outputs": [
    {
     "data": {
      "text/plain": [
       "0.2504710217914232"
      ]
     },
     "execution_count": 52,
     "metadata": {},
     "output_type": "execute_result"
    }
   ],
   "source": [
    "42.275/168.782"
   ]
  },
  {
   "cell_type": "code",
   "execution_count": 53,
   "metadata": {
    "collapsed": false
   },
   "outputs": [
    {
     "data": {
      "text/plain": [
       "0.220199513074272"
      ]
     },
     "execution_count": 53,
     "metadata": {},
     "output_type": "execute_result"
    }
   ],
   "source": [
    "27.857/126.508"
   ]
  },
  {
   "cell_type": "code",
   "execution_count": 54,
   "metadata": {
    "collapsed": false
   },
   "outputs": [
    {
     "data": {
      "text/plain": [
       "0.004257475924987328"
      ]
     },
     "execution_count": 54,
     "metadata": {},
     "output_type": "execute_result"
    }
   ],
   "source": [
    "0.420/98.65"
   ]
  },
  {
   "cell_type": "markdown",
   "metadata": {},
   "source": [
    "## 7.19\n",
    "\n",
    "### a.\n",
    "\n",
    "As an example, here is the formula I used to transform $Y$ in Minitab:\n",
    "\n",
    "    1/sqrt(80)*('Y - rental rate'-MeanY)/StDevY\n",
    "    \n",
    "The formulas for the predictor variables have the same form. The fit model is:\n",
    "\n",
    "    Y* = -0.5479 X1* + 0.4236 X2* + 0.0485 X3* + 0.5028 X4*\n",
    "    \n",
    "### b.\n",
    "\n",
    "$$b^*_2 = 0.4236$$\n",
    "\n",
    "I suppose I can safely say that $b^*_2$ represents the change in $Y^*$ per unit change in $X_2$ while keeping all other predictor variables constant. Kutner et al. caution (p. 278) us against interpreting standardized regression coefficients as showing relative impact of predictor variables. \n",
    "\n",
    "### c. \n",
    "\n",
    "I'll be using (7.53a):\n",
    "\n",
    "$$b_k = \\frac{s_Y}{s_k}b^*_k$$"
   ]
  },
  {
   "cell_type": "code",
   "execution_count": 55,
   "metadata": {
    "collapsed": false
   },
   "outputs": [
    {
     "data": {
      "text/plain": [
       "{'b1': -0.14204593038900654,\n",
       " 'b2': 0.28198535741433894,\n",
       " 'b3': 0.61983727173091874,\n",
       " 'b4': 7.9249773077403444e-06}"
      ]
     },
     "execution_count": 55,
     "metadata": {},
     "output_type": "execute_result"
    }
   ],
   "source": [
    "# I can get the descriptive stats straight from pandas\n",
    "sY = cp_df['Y-rental_rate'].std()\n",
    "b = {}\n",
    "b['b1'] = (sY/cp_df['X1-age'].std())*-0.5479\n",
    "b['b2'] = (sY/cp_df['X2-expenses'].std())*0.4236\n",
    "b['b3'] = (sY/cp_df['X3-vacancy_rate'].std())*0.0485\n",
    "b['b4'] = (sY/cp_df['X4-footage'].std())*0.5028\n",
    "b"
   ]
  },
  {
   "cell_type": "markdown",
   "metadata": {},
   "source": [
    "Comparing these to the original coefficients:\n",
    "\n",
    "    Regression Analysis: Y - rental r versus X4 - footage, X1 - age, X2 - expense, X3 - vacancy \n",
    "\n",
    "    Coefficients\n",
    "\n",
    "    Term                   Coef \n",
    "    Constant             12.201 \n",
    "    X4 - footage       0.000008 \n",
    "    X1 - age            -0.1420 \n",
    "    X2 - expenses        0.2820 \n",
    "    X3 - vacancy rate      0.62 \n",
    "    \n",
    "Yes, these agree with the coefficients I just calculated except for slight rounding effect differences."
   ]
  }
 ],
 "metadata": {
  "kernelspec": {
   "display_name": "Python 3",
   "language": "python",
   "name": "python3"
  },
  "language_info": {
   "codemirror_mode": {
    "name": "ipython",
    "version": 3
   },
   "file_extension": ".py",
   "mimetype": "text/x-python",
   "name": "python",
   "nbconvert_exporter": "python",
   "pygments_lexer": "ipython3",
   "version": "3.4.3"
  }
 },
 "nbformat": 4,
 "nbformat_minor": 0
}
